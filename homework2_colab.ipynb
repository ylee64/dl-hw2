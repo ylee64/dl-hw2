{
  "nbformat": 4,
  "nbformat_minor": 0,
  "metadata": {
    "colab": {
      "name": "homework2_colab.ipynb",
      "version": "0.3.2",
      "provenance": [],
      "collapsed_sections": [],
      "toc_visible": true,
      "include_colab_link": true
    },
    "kernelspec": {
      "name": "python3",
      "display_name": "Python 3"
    },
    "accelerator": "GPU"
  },
  "cells": [
    {
      "cell_type": "markdown",
      "metadata": {
        "id": "view-in-github",
        "colab_type": "text"
      },
      "source": [
        "<a href=\"https://colab.research.google.com/github/ylee64/dl-hw2/blob/master/homework2_colab.ipynb\" target=\"_parent\"><img src=\"https://colab.research.google.com/assets/colab-badge.svg\" alt=\"Open In Colab\"/></a>"
      ]
    },
    {
      "metadata": {
        "id": "S2IaITBP0f5R",
        "colab_type": "text"
      },
      "cell_type": "markdown",
      "source": [
        "# Homework 2\n",
        "In this homework, we will explore language generation using character-level RNNs. Sounds awesome, right?\n",
        "\n",
        "A few notes at the beginning:\n",
        "- It might be useful for you to read the whole assignment before beginning. Especially the last two sections so you know what to record for turning in.\n",
        "- Much of the required knowledge in this (and past) homeworks about Python, PyTorch, etc. are not explained fully here. Instead, we expect you to use the existing documentation, search engines, Stack Overflow, etc. for implementation details.\n",
        "- That being said, we have listed several functions in parts of the homework where knowing those functions exist would be especially useful. However you will still need to read the docs on how to specifically use the functions.\n",
        "\n",
        "# Part 0: Initial setup\n",
        "You should recognize this code from last time.\n"
      ]
    },
    {
      "metadata": {
        "id": "4GS0yuGl0mHQ",
        "colab_type": "code",
        "outputId": "0cc83e82-a607-4994-dd6d-bdb71079a835",
        "colab": {
          "base_uri": "https://localhost:8080/",
          "height": 156
        }
      },
      "cell_type": "code",
      "source": [
        "# This is code to download and install pytorch\n",
        "import os\n",
        "from wheel.pep425tags import get_abbr_impl, get_impl_ver, get_abi_tag\n",
        "platform = '{}{}-{}'.format(get_abbr_impl(), get_impl_ver(), get_abi_tag())\n",
        "\n",
        "accelerator = 'cu80' if os.path.exists('/opt/bin/nvidia-smi') else 'cpu'\n",
        "!pip install http://download.pytorch.org/whl/{accelerator}/torch-0.4.1-{platform}-linux_x86_64.whl torchvision\n",
        "\n",
        "import torch\n",
        "print('Version', torch.__version__)\n",
        "print('CUDA enabled:', torch.cuda.is_available())"
      ],
      "execution_count": 33,
      "outputs": [
        {
          "output_type": "stream",
          "text": [
            "Requirement already satisfied: torch==0.4.1 from http://download.pytorch.org/whl/cu80/torch-0.4.1-cp36-cp36m-linux_x86_64.whl in /usr/local/lib/python3.6/dist-packages (0.4.1)\n",
            "Requirement already satisfied: torchvision in /usr/local/lib/python3.6/dist-packages (0.2.1)\n",
            "Requirement already satisfied: numpy in /usr/local/lib/python3.6/dist-packages (from torchvision) (1.14.6)\n",
            "Requirement already satisfied: six in /usr/local/lib/python3.6/dist-packages (from torchvision) (1.11.0)\n",
            "Requirement already satisfied: pillow>=4.1.1 in /usr/local/lib/python3.6/dist-packages (from torchvision) (5.3.0)\n",
            "Version 0.4.1\n",
            "CUDA enabled: True\n"
          ],
          "name": "stdout"
        }
      ]
    },
    {
      "metadata": {
        "id": "6t3ZIEll0pr-",
        "colab_type": "code",
        "outputId": "66a5fd82-b6cc-4883-f787-34ef8a1d72c5",
        "colab": {
          "base_uri": "https://localhost:8080/",
          "height": 71
        }
      },
      "cell_type": "code",
      "source": [
        "from google.colab import drive\n",
        "drive.mount('/gdrive')\n",
        "!ls /gdrive"
      ],
      "execution_count": 0,
      "outputs": [
        {
          "output_type": "stream",
          "text": [
            "Drive already mounted at /gdrive; to attempt to forcibly remount, call drive.mount(\"/gdrive\", force_remount=True).\n",
            "'My Drive'  'Team Drives'\n"
          ],
          "name": "stdout"
        }
      ]
    },
    {
      "metadata": {
        "id": "PEzPNAIY0vkm",
        "colab_type": "text"
      },
      "cell_type": "markdown",
      "source": [
        "# Part 1: Upload the dataset\n",
        "We will be using the complete text of Harry Potter as our corpus. We will provide it for you in a not-very-well-formatted way.\n",
        "Run this code to navigate to the BASE_PATH directory and upload the homework2.tar file inside the BASE_PATH, then extract it.\n",
        "\n"
      ]
    },
    {
      "metadata": {
        "id": "CLVJPc_90vsB",
        "colab_type": "code",
        "outputId": "e3be71b1-957e-4450-96dd-e8f719700513",
        "colab": {
          "base_uri": "https://localhost:8080/",
          "height": 51
        }
      },
      "cell_type": "code",
      "source": [
        "import os\n",
        "BASE_PATH = '/gdrive/My Drive/colab_files/homework2/'\n",
        "if not os.path.exists(BASE_PATH):\n",
        "    os.makedirs(BASE_PATH)\n",
        "DATA_PATH = BASE_PATH + 'harry_potter/'\n",
        "CHILDREN_PATH = BASE_PATH + 'children_books/'\n",
        "\n",
        "!pwd\n",
        "!ls\n",
        "os.chdir(BASE_PATH)\n",
        "if not os.path.exists(DATA_PATH + 'harry_potter.txt'):\n",
        "    !wget http://pjreddie.com/media/files/homework2.tar.gz\n",
        "    !tar -zxvf homework2.tar.gz\n",
        "    !rm homework2.tar.gz\n",
        "import pt_util\n",
        "os.chdir('/content')"
      ],
      "execution_count": 0,
      "outputs": [
        {
          "output_type": "stream",
          "text": [
            "/content\n",
            "sample_data\n"
          ],
          "name": "stdout"
        }
      ]
    },
    {
      "metadata": {
        "id": "hd1Qx66s19Pl",
        "colab_type": "code",
        "colab": {}
      },
      "cell_type": "code",
      "source": [
        "import torch\n",
        "import torch.nn as nn\n",
        "from torchvision import datasets\n",
        "from torchvision import transforms\n",
        "import numpy as np\n",
        "import torch.nn.functional as F\n",
        "import torch.optim as optim\n",
        "import sys\n",
        "import pickle\n",
        "import re\n",
        "sys.path.append(BASE_PATH)\n",
        "import pt_util\n",
        "import math"
      ],
      "execution_count": 0,
      "outputs": []
    },
    {
      "metadata": {
        "id": "AxIvm7h62tfx",
        "colab_type": "text"
      },
      "cell_type": "markdown",
      "source": [
        "#Part 2: Preprocessing the data\n",
        "In previous homeworks, we have provided a cleaned version of the data. But this time you'll have to do some of that cleaning yourselves.\n",
        "\n",
        "Hints:\n",
        "- train_text and test_text should contain the class indices for the character tokens from the data file. For example, if the text was **`\"ABA CDBE\"`**, the token version would be a numpy array with contents `[0, 1, 0, 2, 3, 4, 1, 5]`\n",
        "- The harry_potter.txt file has weird spacing. You might want to replace all the whitespace characters (space, \\n, \\t, etc.) in the file with the space character.\n",
        "- You should output two files. One for training and one for testing. The training should be the first 80% of the characters.\n",
        "- voc2ind is a map from character to the index of the class for that character. There is no predefined vocabulary, but you will need to be consistent across all tasks that use the vocabulary. For the example above, the voc2ind would be `{'A': 0, 'B': 1, ' ': 2, 'C': 3, 'D': 4, 'E': 5}`\n",
        "- ind2voc is the inverse of voc2ind\n",
        "\n"
      ]
    },
    {
      "metadata": {
        "id": "6oZq_S6k3GpB",
        "colab_type": "code",
        "colab": {}
      },
      "cell_type": "code",
      "source": [
        "def prepare_data(data_path, corpus_name, file_output_name):\n",
        "    with open(data_path + corpus_name) as f:\n",
        "        # This reads all the data from the file, but does not do any processing on it.\n",
        "        data = f.read()\n",
        "    \n",
        "    # TODO Add more preprocessing\n",
        "    separator = \" \"\n",
        "    data = separator.join(data.split())\n",
        "    voc2ind = {}\n",
        "    \n",
        "    # Compute voc2ind and transform the data into an integer representation of the tokens.\n",
        "    int_rep = []\n",
        "    vocab_ind = 0\n",
        "    \n",
        "    for char in data:\n",
        "      # TODO Fill this in\n",
        "      voc_value = vocab_ind;\n",
        "      if char not in voc2ind:\n",
        "        voc2ind[char] = voc_value\n",
        "        vocab_ind += 1\n",
        "      else:\n",
        "        voc_value = voc2ind[char]\n",
        "      # put the correct vocab value into the processed data numpy array\n",
        "      int_rep.append(voc_value) \n",
        "\n",
        "    ind2voc = {val: key for key, val in voc2ind.items()}\n",
        "\n",
        "    train_text = np.array(int_rep[:int(0.8 * len(int_rep))]) # TODO Fill this in\n",
        "    test_text = np.array(int_rep[int(0.8 * len(int_rep)):]) # TODO Fill this in\n",
        "\n",
        "    pickle.dump({'tokens': train_text, 'ind2voc': ind2voc, 'voc2ind':voc2ind}, open(data_path + file_output_name + '_train.pkl', 'wb'))\n",
        "    pickle.dump({'tokens': test_text, 'ind2voc': ind2voc, 'voc2ind':voc2ind}, open(data_path + file_output_name + 'r_chars_test.pkl', 'wb'))\n",
        "\n",
        "# Prepare the data for each corpus\n",
        "prepare_data(DATA_PATH, 'harry_potter.txt', 'harry_potter_chars')\n",
        "#prepare_data(CHILDREN_PATH, 'children_books.txt', 'children_chars')\n",
        "    \n",
        "class Vocabulary(object):\n",
        "    def __init__(self, data_file):\n",
        "        with open(data_file, 'rb') as data_file:\n",
        "            dataset = pickle.load(data_file)\n",
        "        self.ind2voc = dataset['ind2voc']\n",
        "        self.voc2ind = dataset['voc2ind']\n",
        "\n",
        "    # Returns a string representation of the tokens.\n",
        "    def array_to_words(self, arr):\n",
        "        return ''.join([self.ind2voc[int(ind)] for ind in arr])\n",
        "\n",
        "    # Returns a torch tensor representing each token in words.\n",
        "    def words_to_array(self, words):\n",
        "        return torch.LongTensor([self.voc2ind[word] for word in words])\n",
        "\n",
        "    # Returns the size of the vocabulary.\n",
        "    def __len__(self):\n",
        "        return len(self.voc2ind)"
      ],
      "execution_count": 0,
      "outputs": []
    },
    {
      "metadata": {
        "id": "kzX1tUv8ilYV",
        "colab_type": "text"
      },
      "cell_type": "markdown",
      "source": [
        "#Part 3: Loading the data\n",
        "This is possibly the trickiest part of this homework. In the past, batches were not correlated with each other, and the data within a single minibatch was also not correlated, so you could basically draw randomly from the dataset. That is not the case here. Instead, you should return sequences from the dataset.\n",
        "\n",
        "Your instructions are to implement the following. First, imagine splitting the dataset into N chunks where N is the batch_size and the chunks are contiguous parts of the data. For each batch, you should return one sequence from each of the chunks. The batches should also be sequential an example is described below.\n",
        "\n",
        "The data is 20 characters long `[1, 2, 3, ...20]`. The batch size is 2 and the sequence length is 4\n",
        "- The 1st batch should consist of  `(data =  [[1, 2, 3, 4]; [11, 12, 13, 14]], labels = [[2, 3, 4, 5]; [12, 13, 14, 15]])`\n",
        "- The 2nd batch should consist of `(data =  [[5, 6, 7, 8]; [15, 16, 17, 18]], labels = [[6, 7, 8, 9]; [16, 17, 18, 19]])`\n",
        "- The 3rd batch should consist of `(data =  [[9]; [19]], labels = [[10]; [20]])`\n",
        "- There is no 4th batch.\n",
        "\n",
        "Hints:\n",
        "- To work with the rest of the code, your len(dataset) should be a multiple of the batch_size. \n",
        "- Removing the last bit to make the data the proper shape will probably give better results than padding with 0s.\n",
        "- It is OK to have one batch be shorter than the others as long as all entries in that batch are the same length.\n",
        "- Notice that the last label in one batch is the first data in the next batch. Be careful of off-by-one errors.\n",
        "\n"
      ]
    },
    {
      "metadata": {
        "id": "44v6o0JwiwXk",
        "colab_type": "code",
        "colab": {}
      },
      "cell_type": "code",
      "source": [
        "class HarryPotterDataset(torch.utils.data.Dataset):\n",
        "    def __init__(self, data_file, sequence_length, batch_size):\n",
        "        super(HarryPotterDataset, self).__init__()\n",
        "\n",
        "        self.sequence_length = sequence_length\n",
        "        self.batch_size = batch_size\n",
        "        self.vocab = Vocabulary(data_file)\n",
        "\n",
        "        with open(data_file, 'rb') as data_pkl:\n",
        "            dataset = pickle.load(data_pkl)\n",
        "\n",
        "        # TODO: Any preprocessing on the data to get it to the right shape.\n",
        "        # making the datset a multiple of the batch_size\n",
        "        dataset = dataset['tokens']\n",
        "        dataset = dataset[0 : len(dataset) - len(dataset)%batch_size]\n",
        "        self.dataset = dataset\n",
        "\n",
        "    def __len__(self):\n",
        "        # TODO return the number of unique sequences you have, not the number of characters.\n",
        "        num_seq_chunk = (len(self.dataset) / self.batch_size) / self.sequence_length\n",
        "        return int(math.ceil(num_seq_chunk)) * self.batch_size\n",
        "        \n",
        "    def __getitem__(self, idx):\n",
        "        # Return the data and label for a character sequence as described above.\n",
        "        # The data and labels should be torch long tensors.\n",
        "        # You should return a single entry for the batch using the idx to decide which chunk you are \n",
        "        # in and how far down in the chunk you are.\n",
        "        \n",
        "        chunk_size = len(self.dataset) // self.batch_size\n",
        "        chunk_start_index = (idx % self.batch_size) * chunk_size\n",
        "        seq_start_index =(idx // self.batch_size) * self.sequence_length\n",
        "        start_index = chunk_start_index + seq_start_index\n",
        "        \n",
        "        end_index = start_index + self.sequence_length + 1\n",
        "        end_index = end_index if end_index < chunk_start_index + chunk_size else chunk_start_index + chunk_size\n",
        "        \n",
        "        data = self.dataset[start_index : end_index]\n",
        "        data = torch.LongTensor(data)\n",
        "        \n",
        "        return data[:-1], data[1:]\n",
        "\n",
        "    def vocab_size(self):\n",
        "        return len(self.vocab)"
      ],
      "execution_count": 0,
      "outputs": []
    },
    {
      "metadata": {
        "id": "8kYKDZoj2jCV",
        "colab_type": "text"
      },
      "cell_type": "markdown",
      "source": [
        "# Part 4: Defining the Network\n",
        "This time we will provide a network that should already get pretty good performance. You will still need to write the forward pass and inference functions. You may also choose to modify the network to try and get better performance.\n",
        "\n",
        "__BE CAREFUL:__ We have specified that the data will be fed in as batch_first. Look at the documentation if you are confused about the implications of this as well as how to call it for the forward pass. https://pytorch.org/docs/stable/nn.html#torch.nn.GRU\n",
        "    \n"
      ]
    },
    {
      "metadata": {
        "id": "mO21UXLj2ixn",
        "colab_type": "code",
        "colab": {}
      },
      "cell_type": "code",
      "source": [
        "TEMPERATURE = 0.5\n",
        "\n",
        "class HarryPotterNet(nn.Module):\n",
        "    def __init__(self, vocab_size, feature_size):\n",
        "        super(HarryPotterNet, self).__init__()\n",
        "        self.vocab_size = vocab_size\n",
        "        self.feature_size = feature_size\n",
        "        self.encoder = nn.Embedding(self.vocab_size, self.feature_size)\n",
        "        self.gru = nn.GRU(self.feature_size, self.feature_size, num_layers=2, batch_first=True)\n",
        "        self.decoder = nn.Linear(self.feature_size, self.vocab_size)\n",
        "        \n",
        "        # This shares the encoder and decoder weights as described in lecture.\n",
        "        self.decoder.weight = self.encoder.weight\n",
        "        self.decoder.bias.data.zero_()\n",
        "        \n",
        "        self.best_accuracy = -1\n",
        "\n",
        "    def forward(self, x, hidden_state=None):\n",
        "        batch_size = x.shape[0]\n",
        "        sequence_length = x.shape[1]\n",
        "        \n",
        "        # TODO finish defining the forward pass.\n",
        "        # You should return the output from the decoder as well as the hidden state given by the gru.\n",
        "        x = self.encoder(x)\n",
        "        #x = nn.utils.rnn.pack_padded_sequence(x, lengths, batch_first=True)\n",
        "        x, hidden_state = self.gru(x)\n",
        "        x = self.decoder(x)\n",
        "\n",
        "        return x.view(batch_size, sequence_length, -1), hidden_state\n",
        "\n",
        "    # This defines the function that gives a probability distribution and implements the temperature computation.\n",
        "    def inference(self, x, hidden_state=None, temperature=1):\n",
        "        x = x.view(-1, 1)\n",
        "        x, hidden_state = self.forward(x, hidden_state)\n",
        "        x = x.view(1, -1)\n",
        "        x = x / max(temperature, 1e-20)\n",
        "        x = F.softmax(x, dim=1)\n",
        "        return x, hidden_state\n",
        "\n",
        "    # Predefined loss function\n",
        "    def loss(self, prediction, label, reduction='elementwise_mean'):\n",
        "        loss_val = F.cross_entropy(prediction.view(-1, self.vocab_size), label.view(-1), reduction=reduction)\n",
        "        return loss_val\n",
        "\n",
        "    # Saves the current model\n",
        "    def save_model(self, file_path, num_to_keep=1):\n",
        "        pt_util.save(self, file_path, num_to_keep)\n",
        "\n",
        "    # Saves the best model so far\n",
        "    def save_best_model(self, accuracy, file_path, num_to_keep=1):\n",
        "        if accuracy > self.best_accuracy:\n",
        "            self.save_model(file_path, num_to_keep)\n",
        "            self.best_accuracy = accuracy\n",
        "\n",
        "    def load_model(self, file_path):\n",
        "        pt_util.restore(self, file_path)\n",
        "\n",
        "    def load_last_model(self, dir_path):\n",
        "        return pt_util.restore_latest(self, dir_path)"
      ],
      "execution_count": 0,
      "outputs": []
    },
    {
      "metadata": {
        "id": "iEQZIoB0jY5h",
        "colab_type": "text"
      },
      "cell_type": "markdown",
      "source": [
        "#Part 5: Character Generation\n",
        "\n",
        "In class we discussed three algorithms for creating sequences.\n",
        "1. Max: Choose the most likely value\n",
        "2. Sample: Sample from the distribution output by the network.\n",
        "3. Beam Search: Sample from the distribution and use the Beam Search algorithm.\n",
        "\n",
        "The beam search algorithm is as follows:\n",
        "```\n",
        "1. Initialize the beam list with the single existing empty beam\n",
        "2. Repeat for the sequence length:\n",
        "    1. For each beam in the beam list:\n",
        "        1. Compute the next distribution over the output space for that state\n",
        "        2. Sample from the distribution with replacement\n",
        "        3. For each sample:\n",
        "            1. Compute its score\n",
        "            2. Record its hidden state and chosen value\n",
        "        4. Add all the samples to the new beam list      \n",
        "     2. Rank the new beam list\n",
        "     3. Throw out all but the top N beams\n",
        " 3. Return the top beam's chosen values.\n",
        "```\n",
        "\n",
        "\n",
        "Hints:\n",
        "- np.random.choice and torch.multinomial will both help with the sampling as they can take in a weighted probability distribution and sample from that distribution.\n",
        "- For beam search you will need to keep a running score of the likelihood of each sequence. If you multiply the likelihoods, you will encounter float underflow. Instead, you should add the log likelihoods.\n",
        "- For beam search, you will need to keep track of multiple hidden states related to which branch you are currently expanding.\n",
        "- For beam search, you should search over the beam, but only return the top result in the end.\n",
        "- It may be useful to do the training part before the character generation part so you have some model to test.\n",
        "- Feel free to play around with the `BEAM_WIDTH`.\n"
      ]
    },
    {
      "metadata": {
        "id": "9XTxy4eq3UYR",
        "colab_type": "code",
        "colab": {}
      },
      "cell_type": "code",
      "source": [
        "BEAM_WIDTH = 10\n",
        "SAMPLE_SIZE = 3\n",
        "\n",
        "def generate_language(model, device, seed_words, sequence_length, vocab, sampling_strategy='max', beam_width=BEAM_WIDTH):\n",
        "    model.eval()\n",
        "\n",
        "    with torch.no_grad():\n",
        "        seed_words_arr = vocab.words_to_array(seed_words)\n",
        "\n",
        "        # Computes the initial hidden state from the prompt (seed words).\n",
        "        hidden = None\n",
        "        for ind in seed_words_arr:\n",
        "            data = ind.to(device)\n",
        "            output, hidden = model.inference(data, hidden)\n",
        "\n",
        "        outputs = []\n",
        "        # Initializes the beam list.\n",
        "        beams = [([], output, hidden, 0)]\n",
        "        \n",
        "        for ii in range(sequence_length):\n",
        "\n",
        "            if sampling_strategy == 'max':\n",
        "                # TODO max sampling strategy\n",
        "                max_sample = torch.argmax(output, 1)\n",
        "                outputs.append(max_sample.item())\n",
        "                output, hidden = model.inference(max_sample, hidden, TEMPERATURE)\n",
        "            elif sampling_strategy == 'sample':\n",
        "                # TODO: Probability-based sampling strategy.\n",
        "                sample = torch.multinomial(output, 1)\n",
        "                outputs.append(sample.item())\n",
        "                output, hidden = model.inference(sample, hidden, TEMPERATURE)\n",
        "            elif sampling_strategy == 'beam':\n",
        "                branch_beams = []\n",
        "                for beam_outputs, beam_distrib, hidden, beam_accuracy in beams:\n",
        "                  \n",
        "                    # take a BEAM_WIDTH number of samples from the beam_output\n",
        "                    samples = torch.multinomial(beam_distrib, beam_width, True)[0]\n",
        "                  \n",
        "                    for ind in range (beam_width):\n",
        "                        new_outputs = beam_outputs.copy()\n",
        "                        new_outputs.append(samples[ind].item())\n",
        "                        new_distrib, hidden = model.inference(samples[ind], hidden)\n",
        "                        sub_accuracy = torch.index_select(beam_distrib, 1, samples[ind]).log().item()\n",
        "                        new_accuracy = beam_accuracy + sub_accuracy\n",
        "                        \n",
        "                        branch_beam = (new_outputs, new_distrib, hidden, new_accuracy)\n",
        "                        branch_beams.append(branch_beam)\n",
        "                    \n",
        "                beams = sorted(branch_beams, key=lambda beam: beam[3], reverse = True)[:beam_width]\n",
        "                outputs = beams[0][0]\n",
        "                 \n",
        "        return vocab.array_to_words(seed_words_arr.tolist() + outputs)"
      ],
      "execution_count": 0,
      "outputs": []
    },
    {
      "metadata": {
        "id": "Havsk_RJi_i5",
        "colab_type": "text"
      },
      "cell_type": "markdown",
      "source": [
        "# Part 6: Training\n",
        "Again, we are providing training code for you. Have a look at the train function though as it implements the exact forward approximate backward computation, which may be of interest to you. You will still need to add the perplexity computation (read more in part 9 about how to do this)."
      ]
    },
    {
      "metadata": {
        "id": "L0Wq8hRy0UEX",
        "colab_type": "code",
        "colab": {}
      },
      "cell_type": "code",
      "source": [
        "def repackage_hidden(h):\n",
        "    \"\"\"Wraps hidden states in new Tensors, to detach them from their history.\"\"\"\n",
        "    if isinstance(h, torch.Tensor):\n",
        "        return h.detach()\n",
        "    else:\n",
        "        return tuple(repackage_hidden(v) for v in h)\n",
        "\n",
        "def train(model, device, train_loader, lr, epoch, log_interval):\n",
        "    model.train()\n",
        "    losses = []\n",
        "    perplexity = []\n",
        "    hidden = None\n",
        "    for batch_idx, (data, label) in enumerate(train_loader):\n",
        "        data, label = data.to(device), label.to(device)\n",
        "        # Separates the hidden state across batches. \n",
        "        # Otherwise the backward would try to go all the way to the beginning every time.\n",
        "        if hidden is not None:\n",
        "            hidden = repackage_hidden(hidden)\n",
        "        optimizer.zero_grad()\n",
        "        output, hidden = model(data, hidden)\n",
        "        pred = output.max(-1)[1]\n",
        "        loss = model.loss(output, label)\n",
        "        losses.append(loss.item())\n",
        "        perplexity.append(math.exp(loss.item()))\n",
        "        loss.backward()\n",
        "        optimizer.step()\n",
        "        if batch_idx % log_interval == 0:\n",
        "            print('Train Epoch: {} [{}/{} ({:.0f}%)]\\tLoss: {:.6f}'.format(\n",
        "                epoch, batch_idx * len(data), len(train_loader.dataset),\n",
        "                100. * batch_idx / len(train_loader), loss.item()))\n",
        "    return np.mean(losses), np.mean(perplexity)\n",
        "\n",
        "\n",
        "def test(model, device, test_loader):\n",
        "    model.eval()\n",
        "    test_loss = 0\n",
        "    correct = 0\n",
        "    test_perplexity = 0\n",
        "\n",
        "    with torch.no_grad():\n",
        "        hidden = None\n",
        "        for batch_idx, (data, label) in enumerate(test_loader):\n",
        "            data, label = data.to(device), label.to(device)\n",
        "            output, hidden = model(data, hidden)\n",
        "            loss = model.loss(output, label, reduction='elementwise_mean').item()\n",
        "            test_loss += loss\n",
        "            test_perplexity += math.exp(loss)\n",
        "            pred = output.max(-1)[1]\n",
        "            correct_mask = pred.eq(label.view_as(pred))\n",
        "            num_correct = correct_mask.sum().item()\n",
        "            correct += num_correct\n",
        "            # Comment this out to avoid printing test results\n",
        "            \"\"\"\n",
        "            if batch_idx % 10 == 0:\n",
        "                print('Input\\t%s\\nGT\\t%s\\npred\\t%s\\n\\n' % (\n",
        "                    train_loader.dataset.vocab.array_to_words(data[0]),\n",
        "                    train_loader.dataset.vocab.array_to_words(label[0]),\n",
        "                    train_loader.dataset.vocab.array_to_words(pred[0])))\n",
        "            \"\"\"\n",
        "    test_loss /= len(test_loader)\n",
        "    test_perplexity /= len(test_loader)\n",
        "    test_accuracy = 100. * correct / (len(test_loader.dataset) * test_loader.dataset.sequence_length)\n",
        "\n",
        "    print('\\nTest set: Average loss: {:.4f}, Accuracy: {}/{} ({:.0f}%)\\n'.format(\n",
        "        test_loss, correct, len(test_loader.dataset) * test_loader.dataset.sequence_length,\n",
        "        100. * correct / (len(test_loader.dataset) * test_loader.dataset.sequence_length)))\n",
        "    return test_loss, test_perplexity, test_accuracy"
      ],
      "execution_count": 0,
      "outputs": []
    },
    {
      "metadata": {
        "id": "66T-Ylkg0fn1",
        "colab_type": "code",
        "colab": {
          "base_uri": "https://localhost:8080/",
          "height": 3369
        },
        "outputId": "4c8a7efe-b2cd-42f6-fcc2-d2482fa5a6f7"
      },
      "cell_type": "code",
      "source": [
        "SEQUENCE_LENGTH = 200\n",
        "BATCH_SIZE = 256\n",
        "FEATURE_SIZE = 512\n",
        "TEST_BATCH_SIZE = 256\n",
        "EPOCHS = 10\n",
        "LEARNING_RATE = 0.002\n",
        "WEIGHT_DECAY = 0.0005\n",
        "USE_CUDA = True\n",
        "PRINT_INTERVAL = 10\n",
        "LOG_PATH = DATA_PATH + 'logs/log.pkl'\n",
        "\n",
        "\n",
        "data_train = HarryPotterDataset(DATA_PATH + 'harry_potter_chars_train.pkl', SEQUENCE_LENGTH, BATCH_SIZE)\n",
        "data_test = HarryPotterDataset(DATA_PATH + 'harry_potter_chars_test.pkl', SEQUENCE_LENGTH, TEST_BATCH_SIZE)\n",
        "vocab = data_train.vocab\n",
        "\n",
        "use_cuda = USE_CUDA and torch.cuda.is_available()\n",
        "\n",
        "device = torch.device(\"cuda\" if use_cuda else \"cpu\")\n",
        "print('Using device', device)\n",
        "import multiprocessing\n",
        "num_workers = multiprocessing.cpu_count()\n",
        "print('num workers:', num_workers)\n",
        "\n",
        "kwargs = {'num_workers': num_workers,\n",
        "          'pin_memory': True} if use_cuda else {}\n",
        "\n",
        "train_loader = torch.utils.data.DataLoader(data_train, batch_size=BATCH_SIZE,\n",
        "                                           shuffle=False, **kwargs)\n",
        "test_loader = torch.utils.data.DataLoader(data_test, batch_size=TEST_BATCH_SIZE,\n",
        "                                          shuffle=False, **kwargs)\n",
        "\n",
        "model = HarryPotterNet(data_train.vocab_size(), FEATURE_SIZE).to(device)\n",
        "\n",
        "# Adam is an optimizer like SGD but a bit fancier. It tends to work faster and better than SGD.\n",
        "# We will talk more about different optimization methods in class.\n",
        "optimizer = optim.Adam(model.parameters(), lr=LEARNING_RATE, weight_decay=WEIGHT_DECAY)\n",
        "start_epoch = 0 #model.load_last_model(DATA_PATH + 'checkpoints')\n",
        "\n",
        "train_losses, train_perplexities, test_losses, test_perplexities, test_accuracies = [], [], [], [], []#pt_util.read_log(LOG_PATH, ([], [], []))\n",
        "test_loss, test_perplexity, test_accuracy = test(model, device, test_loader)\n",
        "\n",
        "test_losses.append((start_epoch, test_loss))\n",
        "test_perplexities.append((start_epoch, test_perplexity))\n",
        "test_accuracies.append((start_epoch, test_accuracy))\n",
        "\n",
        "try:\n",
        "    for epoch in range(start_epoch, EPOCHS + 1):\n",
        "        lr = LEARNING_RATE * np.power(0.25, (int(epoch / 6)))\n",
        "        train_loss, train_perplexity = train(model, device, train_loader, lr, epoch, PRINT_INTERVAL)\n",
        "        test_loss, test_perplexity, test_accuracy = test(model, device, test_loader)\n",
        "        train_losses.append((epoch, train_loss))\n",
        "        train_perplexities.append((epoch, train_perplexity))\n",
        "        test_losses.append((epoch, test_loss))\n",
        "        test_perplexities.append((epoch, test_perplexity))\n",
        "        test_accuracies.append((epoch, test_accuracy))\n",
        "        pt_util.write_log(LOG_PATH, (train_losses, test_losses, test_accuracies))\n",
        "        model.save_best_model(test_accuracy, DATA_PATH + 'checkpoints/%03d.pt' % epoch)\n",
        "        seed_words = 'Harry Potter'\n",
        "        \n",
        "        for ii in range(10):\n",
        "            generated_sentence = generate_language(model, device, seed_words, 200, vocab, 'sample')\n",
        "            print('generated sample\\t', generated_sentence)\n",
        "        generated_sentence = generate_language(model, device, seed_words, 200, vocab, 'beam')\n",
        "        print('generated beam\\t\\t', generated_sentence)\n",
        "        print('')\n",
        "        \n",
        "except KeyboardInterrupt as ke:\n",
        "    print('Interrupted')\n",
        "except:\n",
        "    import traceback\n",
        "    traceback.print_exc()\n",
        "finally:\n",
        "    print('Saving final model')\n",
        "    model.save_model(DATA_PATH + 'checkpoints/%03d.pt' % epoch, 0)\n"
      ],
      "execution_count": 49,
      "outputs": [
        {
          "output_type": "stream",
          "text": [
            "Using device cuda\n",
            "num workers: 2\n",
            "\n",
            "Test set: Average loss: 8.9488, Accuracy: 5595/1280000 (0%)\n",
            "\n",
            "Train Epoch: 0 [0/25088 (0%)]\tLoss: 8.944083\n",
            "Train Epoch: 0 [2560/25088 (10%)]\tLoss: 13.662902\n",
            "Train Epoch: 0 [5120/25088 (20%)]\tLoss: 5.491039\n",
            "Train Epoch: 0 [7680/25088 (31%)]\tLoss: 3.330070\n",
            "Train Epoch: 0 [10240/25088 (41%)]\tLoss: 2.595783\n",
            "Train Epoch: 0 [12800/25088 (51%)]\tLoss: 2.311791\n",
            "Train Epoch: 0 [15360/25088 (61%)]\tLoss: 2.396677\n",
            "Train Epoch: 0 [17920/25088 (71%)]\tLoss: 3.879543\n",
            "Train Epoch: 0 [20480/25088 (82%)]\tLoss: 2.412536\n",
            "Train Epoch: 0 [23040/25088 (92%)]\tLoss: 2.061316\n",
            "\n",
            "Test set: Average loss: 1.9949, Accuracy: 559643/1280000 (44%)\n",
            "\n",
            "Saved /gdrive/My Drive/colab_files/homework2/harry_potter/checkpoints/000.pt\n",
            "\n",
            "generated sample\t Harry Pottery anoud h w He we Dy h he win Rong f H/s S w I S hith S h S H/s bow m S M; w h S He h h y He w w w H/s S He H/s Hedong w I S he hid f H/s I h S f f h he bly Gong S h bly w Song I He h h p w bX h h H`r\n",
            "generated sample\t Harry Potter= S S He f S w h Hed S I h S wzow Hg w w w S S coup H`ry S che T HPf we ang h h w h S h S S h I h S S w f h hedong Hg Dre S h h h Dupe Son hing w Dow w Don w arithin h S h w Ron D th w`re S HE bonthe \n",
            "generated sample\t Harry Potterid coup hou S H honw I' w T S HE Don h He h w be He ch w w H/s w S h M*n Hg w h S w Roug h S Sonoupe h be bin w h h Souped hed hon wh t pe an Hed w h an He HE w con H' f h I ch Hg f h S Do I bly S He \n",
            "generated sample\t Harry Pottere S h S S!\" w h h S h I S w hid Son S w S h w D/s S Son Yong HE h aroure S g Hg m I S Hjup S w HPt an blex S H/s S He Gon cong S hing S w h aly con S ck HE H/P= Rong he S ming S the Hw`Gon f w Hin we \n",
            "generated sample\t Harry Pottered w Dmourin Sow w He Dy be hare h Djurole w h h He he are w ng MXO!\" w He f h Hall He he w he up w w I hed He h Hqupon Rong w w w, He he he w w che f hed hed S we ary S S h T g S He H/s w S ping 3n w\n",
            "generated sample\t Harry Potterin h he w h he S S hin fe h w h the w an Douped h Hed He S I' He H/s S be h H/s He S wzon S w h H/, He S M*zoup h w He f I h S I bo Hg S H' be Dupe h hid S hin HP3n w by be horow H/P= hing Dm an h S h\n",
            "generated sample\t Harry PotterPf w ch f S S Gon he S So by Roun S I hang we He I' I f w w S cok h w h hong ch h bon h y f H/s S chin w I H/s Hg Hg I h w S S Hg w Don can h h I w h ary h M~qug S h h S che T w S w S I h wing S hon h\n",
            "generated sample\t Harry Pottering S I' w S He che th ce hon He S h Sow ho he H/ve 8L6o h h S h h Hgoupe w MXf S He hing h h w He con cang we So ang ch S h Hqug h S he hing He h He h w l f w w T are h He S Hqug w h w H/s I S ared M\n",
            "generated sample\t Harry Potterag S He T hong h H He h S M*He m co Hg bong w S f h He He S S Hg He at fe S h h S S! he h h h h be S w h T S w Go I h he I' h w H/upe h h 3nth w Hjud H/s he Row S f HV&He pe I ce S he h Houp coupoupo \n",
            "generated sample\t Harry Pottere f Dup= He S h S be F3ng con Hg f S Gon S bof care h He S h m f Im S hid ppon S Hg w w h h w he bong He Hg S Ro w S che b S he h h w w ang w S He h hadon 8ry h w bon h h g h' f w f h w ce H/s w H/s T\n",
            "generated beam\t\t Harry Pottere h h h h h h h h h h h h h h h h h h h h h h h h h h h h h h h h h h h h h h h h h h h h h h h h h h h h h h h h h h h h h h h h h h h h h h h h h h h h h h h h h h h h h h h h h h h h h h h h h h h \n",
            "\n",
            "Train Epoch: 1 [0/25088 (0%)]\tLoss: 1.977905\n",
            "Train Epoch: 1 [2560/25088 (10%)]\tLoss: 1.897401\n",
            "Train Epoch: 1 [5120/25088 (20%)]\tLoss: 1.852337\n",
            "Train Epoch: 1 [7680/25088 (31%)]\tLoss: 1.808607\n",
            "Train Epoch: 1 [10240/25088 (41%)]\tLoss: 1.778964\n",
            "Train Epoch: 1 [12800/25088 (51%)]\tLoss: 1.759670\n",
            "Train Epoch: 1 [15360/25088 (61%)]\tLoss: 1.751692\n",
            "Train Epoch: 1 [17920/25088 (71%)]\tLoss: 1.739800\n",
            "Train Epoch: 1 [20480/25088 (82%)]\tLoss: 1.710413\n",
            "Train Epoch: 1 [23040/25088 (92%)]\tLoss: 1.683490\n",
            "\n",
            "Test set: Average loss: 1.7167, Accuracy: 633212/1280000 (49%)\n",
            "\n",
            "Saved /gdrive/My Drive/colab_files/homework2/harry_potter/checkpoints/001.pt\n",
            "\n",
            "generated sample\t Harry Potter, Thon' co DE t by bon I the M D T TYe wed T he HE bonge the bon hin ad 35 we OCus are Singe ad k S he h H`k I S w y Han the arely Hedon t Hag warine Gororis p Yoncagon. H' HAg Rorin bore wad hed Se R\n",
            "generated sample\t Harry Potter, are I HE waronarore Hg Hinore He HE Hane T He S are R HRowong S Age athed w watororine He t be wonged S counge h I' Hade Dony H87MXche I Yowin Hare HN, h, hing he are ag are Gow9J, ck /s H/s chere I\n",
            "generated sample\t Harry Pottere Fged HAle th Gonath ad by INonid R; ang an' M* G t athis HAge I's I h R S woware d warin HE h T Wh bag wed H/s MKCongoud S he My Gorarond; Sh h g I bone I Hale wared ame F*5\" H/s L arep af Sh H/ve I\n",
            "generated sample\t Harry Potterele tle wared Hge thed be D: S T be ag d Hed fintinowary ame D INS I ch HE R hide agid I t S p Inin Srin cat w w Gourofon aromed Roninarowed He tin bus Goron jG bon n 3, h S He My S chinge HS ch H/s c\n",
            "generated sample\t Harry Pottere Harerery RS G S8red at fore he S Here ar= S cade w Han H, He Hary ch worin h bon are h T windole S H8V&ront th age age HAle cade we I bong S' us by w S w I n t A) t I he MXfinch cory L\\LBt A/s t t h\n",
            "generated sample\t Harry Pottery Yed wag ware cle H/se winarem jud h y athe H/se ad waring d hin Mn. ange h MGorof Hare fus be arecangre ly THR wan Creng wonorouly h Hed w h S I' He I-HE Chow be cad SPfen f D che atin Herinorore L \n",
            "generated sample\t Harry Pottery h Fl, M* Hed m conary ch che TE F w I hin I ared wan wag S Im ch Hache TE = ch wak browon I th S winorin HE bore t ble h w arore h HI th be Hathe T T h Hed are wath wang bore wathe G Hen k; Gon HL6 \n",
            "generated sample\t Harry Potterinin S t T F* S ad w th ble h pe the Had ad ware borong h ch D ch w V&S acanex MGong I borerone are bon bjing wared d he bly arinare t ng S h bong S hered M*Ag Coware arin Henare h Hadin me g Hange Am\n",
            "generated sample\t Harry Pottere are ad H' che d h DProwaning warin bonomin. bochan S H' h Duronge S H, Han Gom I foup Gore chin fed h ware h ch D My h be arile ANAx ad Haroup Hange T D Imongore Gong Hare He I be warared S bonile H\n",
            "generated sample\t Harry Potteronge HEx I T8ron t MX[uge woung I ce S ale S!\" are ag I Gorerin' Snom borte T S wach th E Y he te Hed HAO: PUM(Kchininch h H/s w A Gonge he S R Goro_~) h cond y E I are Doninonowared h Fan are R H%mon\n",
            "generated beam\t\t Harry Pottere here he h h h hede he h h hed he He he he he h h h h heded h he h here he He h He h h h He h h h h h he he h h he he hede h are h h h he h he he He he he hed h h He h he hed h heded he he He he hed \n",
            "\n",
            "Train Epoch: 2 [0/25088 (0%)]\tLoss: 1.687911\n",
            "Train Epoch: 2 [2560/25088 (10%)]\tLoss: 1.671929\n",
            "Train Epoch: 2 [5120/25088 (20%)]\tLoss: 1.663341\n",
            "Train Epoch: 2 [7680/25088 (31%)]\tLoss: 1.641607\n",
            "Train Epoch: 2 [10240/25088 (41%)]\tLoss: 1.622535\n",
            "Train Epoch: 2 [12800/25088 (51%)]\tLoss: 1.610986\n",
            "Train Epoch: 2 [15360/25088 (61%)]\tLoss: 1.616554\n",
            "Train Epoch: 2 [17920/25088 (71%)]\tLoss: 1.615911\n",
            "Train Epoch: 2 [20480/25088 (82%)]\tLoss: 1.585430\n",
            "Train Epoch: 2 [23040/25088 (92%)]\tLoss: 1.579164\n",
            "\n",
            "Test set: Average loss: 1.6396, Accuracy: 654170/1280000 (51%)\n",
            "\n",
            "Saved /gdrive/My Drive/colab_files/homework2/harry_potter/checkpoints/002.pt\n",
            "\n",
            "generated sample\t Harry Potteredithoule be d R!\" fe anan M thare gare we be won R arin we h m bly SVe worage warid t an t T He cithit t MGon h I' thon PR's t wary H S_red Qus HRon boke ce lere Ron t arin arare ba ch anarouly h If \n",
            "generated sample\t Harry Potter!\" te che bly This hit arin MG ge wanin S win thare Iche th housed he the He wan wore le t an H43] warorid hin Hag Ve d fe ]the M/s Gon f R t haronind y anarid an me care anale I wan H' s Tous t the G\n",
            "generated sample\t Harry Potterin F te win I TCH t F]it t te t S Rg: Pre G ce ale d t t and an Gous y H`an In y t bon ware che Y p He he hid by S are HE cho ay t d d arin blan He T che fen th My thon Bt t che an warme R an an d R b\n",
            "generated sample\t Harry Potterowe He wicke Hat t Fath t p G Pre boule ware Rg he CThe bly, k by y d widon an arin 3!\" L) w ane HPraghore t H/s are Hat In T t are wangin horan b Th bone the y me SE HP[ry warin wad By t Md ge Is T b\n",
            "generated sample\t Harry Potteran he che we t bare Ibous My, an bach warinan wan the R Sous boup thare wary S Gore He hid Rorore wan t t in T he the F he I ware d t anage the ch le ar boule h t H' h Kg he wh T I hous he ane Hat wac\n",
            "generated sample\t Harry Potterin fe pin. Pre d hon I w H wan arid S we t core t Ucanithe f bourin che S they D d Pre be th S. y thin thin he an t He t t we th bon g anarid he are Bthinarin' Imich s arin t ale t S arin Mrin hokid c\n",
            "generated sample\t Harry Potter Ap twe ce are h Haron t arare g y bous t tin y pe The p by n ^k t arerid MGonad He fly H/s S ang Hagrain p S_7nere aranome be fly anark is aged che S pe ly s He An He R worve t t T HAS Gon G by are K\n",
            "generated sample\t Harry Pottering t Daren I Twad D ched boure are wapous be Gine t H' Yorere athe F h as y be ch MGongid S T an ble thas the fin BA t he me t Fe che porid are t MR!\" Th t tad tous t ance /s t an ble are HA was wis \n",
            "generated sample\t Harry Potteron ge an Gorid anare he Harin g Th s Donan an HOUme Pe arin' Houmagom I ton che t n S age ag arine ACH, Icle wis h wane at He he H= ME be t warine chorin G LPre and bore char t He The bore he F he le \n",
            "generated sample\t Harry Pottere Ande he T be w T wad V7V/s wan Pore HE the R. t t won He akind touginin g H/ve aronome bous we t warithid thit ang an ch It CHan/s S are he th we ad rid bourithe mid T Hake wat ch Fwe t t hous t he \n",
            "generated beam\t\t Harry Pottere t t t t t t t t t t t t t t t t t t the t t t t t t t t t t t t t t t t t t t t t t t t t t t t t t t t t t t t t t t t t t t t t t t t t t t t t t t t t t t t t t t t t t t t t t t t t t t t t t t \n",
            "\n",
            "Train Epoch: 3 [0/25088 (0%)]\tLoss: 1.598475\n",
            "Train Epoch: 3 [2560/25088 (10%)]\tLoss: 1.609803\n",
            "Train Epoch: 3 [5120/25088 (20%)]\tLoss: 1.613431\n",
            "Train Epoch: 3 [7680/25088 (31%)]\tLoss: 1.558216\n",
            "Train Epoch: 3 [10240/25088 (41%)]\tLoss: 1.539426\n",
            "Train Epoch: 3 [12800/25088 (51%)]\tLoss: 1.540447\n",
            "Train Epoch: 3 [15360/25088 (61%)]\tLoss: 1.575980\n",
            "Train Epoch: 3 [17920/25088 (71%)]\tLoss: 1.543712\n",
            "Train Epoch: 3 [20480/25088 (82%)]\tLoss: 1.511547\n",
            "Train Epoch: 3 [23040/25088 (92%)]\tLoss: 1.499783\n",
            "\n",
            "Test set: Average loss: 1.5563, Accuracy: 679394/1280000 (53%)\n",
            "\n",
            "Saved /gdrive/My Drive/colab_files/homework2/harry_potter/checkpoints/003.pt\n",
            "\n",
            "generated sample\t Harry Pottere an A\" athe te t t g t are he we t win he at ad n t p t warid bly he Rquche D H$Rne y had t E She tore t Goranouninoum CHe be are pe are Brin MG5Pre as ck was arit d wane I He The he t ad at han t wa\n",
            "generated sample\t Harry Potterin HXfe t are HE he t boucalle VW7 ate befin t S ag He re h H/s cat h GPE wite t athe D I warin a the he bory S alman le F ale CPthe wan bouthe ad chod h T wale pous bous borite be Hery Pre Fg ab~) te\n",
            "generated sample\t Harry Pottercin wad helinan d win t the R~D F he Male? Aze S ge bore t aun Hag the thongare wange t by G I ad we ad he he we y the d H F the weroune F= che an the My gg t bore che Pre wind He Hat he t ple Fch t T\n",
            "generated sample\t Harry Potterat ton HE Hourid t R te M= b an Hath I at an HEx M: H s Buge the hine hes Dus t at t T are Gine s s t t s Mx I Hathe warerinine the a an t h UEthe he Hare warid ake /s re re an Hare an ged H and he at\n",
            "generated sample\t Harry Potterim the arous ag he theng He be ware ale M--\" fe ale t p he F An at an che he ale t the the che Proule hen Pring t H, h the he t Vin corid wachis the th anare he P$Yous fe che Pre l an che He as THore \n",
            "generated sample\t Harry Potteranon Cle Goup ath ho, the wingrinatonanat F/in the t I are the che che M g = an wan' I BBJ Bale Og jugrin H be warined g che S DNE M y MS he ale bout baris haran are ke t an O-Kn kin s. Tjus t D S h t\n",
            "generated sample\t Harry Potterine ge by Um ware He t acore pe be anous St are t SZbe oule g he thene t t che an t te T cate Goule g T T he H warorored torinin t = he he athe Hang Bag ag Hare My the he at He wing ke he Hare bon ani\n",
            "generated sample\t Harry Potterm g t bat HAs Han warve the ache anale h ane wared t ware carid T B$Ve boran Ipin the be K He che Ime are ble th he athe are bous Sn we arined CPt Iche h bly My M1pous I alite athe hame th at te be bo\n",
            "generated sample\t Harry Potteralis H aig Hile R he he the an' AP2re f t I choule th I t t wind cous the wag herinare che t d an the he che watapis are SCp tus S wit F athin H a the aren agingus F h f ane th the T t Qume S \" ge t H\n",
            "generated sample\t Harry Potteroune g the borit t thare ad I' ch che wan ware pe t d Pre Qin whe bounin SMG wat ake wine it D t Dy Hend he Pgag ad Mme aid H d ch MXume he arine an RE re ake My an tounory are abonarid bre an than ar\n",
            "generated beam\t\t Harry Pottere the t t t t t t t t t t t t t t t t t t t t t t t t t t t t t t t t the t t t t t t t t t t t t t t t t t t t t t t t t t t t t t t t t t t t t t t t t t t t t t t t t t t t t t t t t t t t t t t t \n",
            "\n",
            "Train Epoch: 4 [0/25088 (0%)]\tLoss: 1.511654\n",
            "Train Epoch: 4 [2560/25088 (10%)]\tLoss: 1.496548\n",
            "Train Epoch: 4 [5120/25088 (20%)]\tLoss: 1.504871\n",
            "Train Epoch: 4 [7680/25088 (31%)]\tLoss: 1.499579\n",
            "Train Epoch: 4 [10240/25088 (41%)]\tLoss: 1.587174\n",
            "Train Epoch: 4 [12800/25088 (51%)]\tLoss: 1.525213\n",
            "Train Epoch: 4 [15360/25088 (61%)]\tLoss: 1.520333\n",
            "Train Epoch: 4 [17920/25088 (71%)]\tLoss: 1.497686\n",
            "Train Epoch: 4 [20480/25088 (82%)]\tLoss: 1.473765\n",
            "Train Epoch: 4 [23040/25088 (92%)]\tLoss: 1.456849\n",
            "\n",
            "Test set: Average loss: 1.5092, Accuracy: 695170/1280000 (54%)\n",
            "\n",
            "Saved /gdrive/My Drive/colab_files/homework2/harry_potter/checkpoints/004.pt\n",
            "\n",
            "generated sample\t Harry Potterid t athed wid O, waninagend He toun t I' t ad thonanarooule are a athe ary re y abe thery f t R the hagom S d wat at aran's t t hend ched. anoume d t he t,\" t t t h h a anin t thopat arine Ithed at t\n",
            "generated sample\t Harry Pottering wage t p at cele DEjin thon he he he Hand agend t \" as t therithembore Hare ag nanenan hed Ha t bun s sope heved t He a t HE hepumered bounale t bous t, S the H wit HE are t by t herin t N he thin\n",
            "generated sample\t Harry Potterarit V&armiconapid atenere the t t t Ad pe are fe t he h he wa Magined d Myoreroun banid T are are M/ve t d He Fke; he akere at Gon hagre t He ar, He Ohe t SYerid are he te Henind U wined Go arinat t \n",
            "generated sample\t Harry Pottere thare pon ane wathe t can He inged Ag t Hgrinanan aronary bly the he t Mug the t at y he an Sleng in Hachind t meng the the he he horounat t ache ag arin arore ang themingrin analed then' a t th aro\n",
            "generated sample\t Harry Pottery Ifanepe the henge he s arithe ane thend ge, re Har I t agand t the he te t the t thith s ware t bore H the bong the Hanan R h, the t t wale He ane d wangin. ted arin t thoumeroun t thore toure he an\n",
            "generated sample\t Harry Potterinat age a thed le t an f he t aned te the ag T t han he t an' bougonafe ble chen' t S thound ane t t d L6 an t he O, My athis Sle aroule an at wincound he IGoung he tharinad fl. be an ag he are he t \n",
            "generated sample\t Harry PotterJung thele cape an hom he he aled ched Sng t d t t ble he warind d T; s he t hen, y. h thire MR, te Ve t an t t He Gnine. ary he he he he d ap t the wan P, tory ary. t te ary t hin the Ited arche beri\n",
            "generated sample\t Harry Pottery H thed My t T waren. t the Fle t He ale cin he and thed areneny d S wit t t he bom an thelene H; C he te a D be thane he tenind the d t tele ache HPre R thalex has anchathe s the te ichare t HOg d t\n",
            "generated sample\t Harry Pottery hele tring at D herous t arad m an arit H ant coun the then there anomelid he G hend arin the he H t chy t H{ve he bore \" the wand an the F hed th the the Sle t IV7S HPinin an I's t tinine ag bamed \n",
            "generated sample\t Harry Pottere t he ate araline s wared he che thed B8MChe t the t Qut t therm, R wangarmine t Imin thed the My hopen Hereron P, hat at ago My t Hanang arere t MG tinind bad k d an anarid he t the boun. he bus wan\n",
            "generated beam\t\t Harry Pottere t t t t t t t t t t t t t t t t t t the t t t t t t t t t t t t t t t t t t t t t t t t t t t t t t t t t t t t t t t t t t t t t t t t t t t t t t t t t t t t t t t t t t t t t t t t t t t t t t t \n",
            "\n",
            "Train Epoch: 5 [0/25088 (0%)]\tLoss: 1.461398\n",
            "Train Epoch: 5 [2560/25088 (10%)]\tLoss: 1.452714\n",
            "Train Epoch: 5 [5120/25088 (20%)]\tLoss: 1.460864\n",
            "Train Epoch: 5 [7680/25088 (31%)]\tLoss: 1.447468\n",
            "Train Epoch: 5 [10240/25088 (41%)]\tLoss: 1.441496\n",
            "Train Epoch: 5 [12800/25088 (51%)]\tLoss: 1.447344\n",
            "Train Epoch: 5 [15360/25088 (61%)]\tLoss: 1.954453\n",
            "Train Epoch: 5 [17920/25088 (71%)]\tLoss: 1.582161\n",
            "Train Epoch: 5 [20480/25088 (82%)]\tLoss: 1.479176\n",
            "Train Epoch: 5 [23040/25088 (92%)]\tLoss: 1.437799\n",
            "\n",
            "Test set: Average loss: 1.4915, Accuracy: 699385/1280000 (55%)\n",
            "\n",
            "Saved /gdrive/My Drive/colab_files/homework2/harry_potter/checkpoints/005.pt\n",
            "\n",
            "generated sample\t Harry Pottera by, g hare baron' achard the an ate ad rely ane d Han H he the E HAn R hed che He t we he tane le at wan T he walid t he h ad t Gon and t and d fe FU2 y ane d My gre wanin win we an agre Whe an Rore\n",
            "generated sample\t Harry Potterithoug he Age T an ande at He ke han pe we walathe k he Han. ck an thope he he S ware T be Han in he S te he ag as tin we ach he Che age wat arongid d he aky t We d t hanle pe an at s d he pin he is) \n",
            "generated sample\t Harry Pottere At he an pe be he hon thinarenin by the Tte kithe are ary d t t te T jus B!\" t the hen an s t d thin bous ly he He an t hond are ag thore k ame n he he an jare d he thare hin cha wof Phag s NOnd the\n",
            "generated sample\t Harry Potterouthe s an V: Ad t are ane HE s d f arouC Han h be wan wan g BT an an pe f Thid f he WMousin fute are the wid wan Thoun Sthouthoume t P$I the hererilus ach agupe are Hanth he R ar le te t thed R E H a\n",
            "generated sample\t Harry Potterin Ife fe win Honand he fe bag, an he he H he Ale The s ag t Pre wan atage bun t S he te t oun My CGous helle then he bed wag. /e Mathe a? Bunde an che ble he d agine he the he wared he Br theloulouth\n",
            "generated sample\t Harry Pottery pind aroure fon bous Han are the Hand be he Tle he ag cheron hale arere on \" at as t Fus hin hed h are se an s han SK R che n thone ag he H ard g at he S t an s Han we an ge bore le ud ache t Han d \n",
            "generated sample\t Harry Potteroumin he an h th Man ag are ware M. t Han d age aren's D te tous arare arive fan acag he y wat ch wan alounouly an are chit d tharithe n R he a d an te s te at thend I ware taron be t be th hen the an\n",
            "generated sample\t Harry Potter[Phe F y an be he wan ale be athe the warin hed fe an t wang as the Haly anken HAme Pre boun HSPe alawat I he the sin the the d S ared he ath fid hen he ize Pre than wan id wind s are S he F he I was \n",
            "generated sample\t Harry Pottere ide hy M. s hound y hele wad R ble he the t an mit thous That win n GU R pe Pre s w he t t he arin Af D wingly an ache sinare are hed /ve wan pry at Har Han acid alous s the we H chely han C) he I h\n",
            "generated sample\t Harry Pottery Ig win he wan He F wache an che win we ataren he aro He h at thele t F. t bonge Hache he an d che D He T the he he blicen I'd the wan che LT warere hid S Che St fe d as sthe T t Mle bore heme t d bl\n",
            "generated beam\t\t Harry Pottere the the the and the the the an an the the an an the the an an the the an the an the the an the the the he the an the an the an the the the the an the the the the the the an the the the the the an an\n",
            "\n",
            "Train Epoch: 6 [0/25088 (0%)]\tLoss: 1.442057\n",
            "Train Epoch: 6 [2560/25088 (10%)]\tLoss: 1.421963\n",
            "Train Epoch: 6 [5120/25088 (20%)]\tLoss: 1.418014\n",
            "Train Epoch: 6 [7680/25088 (31%)]\tLoss: 1.421741\n",
            "Train Epoch: 6 [10240/25088 (41%)]\tLoss: 1.416294\n",
            "Train Epoch: 6 [12800/25088 (51%)]\tLoss: 1.406536\n",
            "Train Epoch: 6 [15360/25088 (61%)]\tLoss: 1.418844\n",
            "Train Epoch: 6 [17920/25088 (71%)]\tLoss: 1.416461\n",
            "Train Epoch: 6 [20480/25088 (82%)]\tLoss: 1.395149\n",
            "Train Epoch: 6 [23040/25088 (92%)]\tLoss: 1.392648\n",
            "\n",
            "Test set: Average loss: 1.4541, Accuracy: 710690/1280000 (56%)\n",
            "\n",
            "Saved /gdrive/My Drive/colab_files/homework2/harry_potter/checkpoints/006.pt\n",
            "\n",
            "generated sample\t Harry Potteroumes Ifed S te he He thend athache win Ner thed the he Hare Rorizing ste t halbred aned s F RPf Heleng the th the ho bonathe hery, tholy aly d h wage hed t N bouthe I' here d d H' M-g ared he Prd D T\n",
            "generated sample\t Harry Pottere wag the heled hed Hed wage t hind t hare wapin hithere R wan Othed he a the t te k Kne ane athe wan aked Che D the watongun I: he otoug are D thend an are ararecad t he g ache thinitt at s st t bjo \n",
            "generated sample\t Harry Pottery he d ize warind ad hathe s hes f he he tid tous t ale thed aply me he I the flithe hize he he lin ware R the t thend thele watan s ch as s T; thize wan me Qupe was Hanata te te oron I Pre it F s he \n",
            "generated sample\t Harry Potter ad ary He tethin. t a qunge Hge e heng t an tharend are he thes he t y Har the s tines Here thereme arinin, thele y Y d the Qun'sores hethit St He are He D the ad g ane han inore he s ang aine wand w\n",
            "generated sample\t Harry Potterad s and hed hale he HIn anes an ary the thisthe he Hare the h arere t H p IJGR the age le war an d t Haryounaly s t thed an He he wathenan care athe t s ckele he The Hare thond d ache t m ad t we ath\n",
            "generated sample\t Harry Potterun ad ate s che he t an f t H ast han G his wain t H are angus ar his th he hare hat t te HE anepoup agere wing th d can bounge bond W7]Y He the thin ange Han t arele he cangous the are an Houre t CPO\n",
            "generated sample\t Harry Pottery, wingre s Pr ang he ange agherarond the bous te watrat W He alengere he t t wines s Hanin are he t s G S\\W5 whena the walinge hereled ale se hing armorinouncared theren' angere t ware pe t t he Ixe \n",
            "generated sample\t Harry Potterin t he d Km Sn an's we t t t h the anched h he As wang wale ag h Hare are ane Age F an hind hen' t aronat, ale. inanin tumemorerous athed Fle he hed agre thanend apinare he ad goud inero thex an he y\n",
            "generated sample\t Harry Potter ne thes bo win s he the theloule hinathe inel s he s t the ne T the apas the T in aly an are the th arone Frd Ha TS henenagen t he he haragelinere a an the hin athan t rine than the T h the he athe H\n",
            "generated sample\t Harry Pottere at he t I' he achere wand Hathere he arend a hear as MAt t te che hamere F a geche anand Hat the d wed t hine d F aly he wathed welisind tinanan d ne the he arind the wat t t there TQuge apelerathe \n",
            "Interrupted\n",
            "Saving final model\n",
            "Saved /gdrive/My Drive/colab_files/homework2/harry_potter/checkpoints/006.pt\n",
            "\n"
          ],
          "name": "stdout"
        }
      ]
    },
    {
      "metadata": {
        "id": "4mvdicMyBjdf",
        "colab_type": "text"
      },
      "cell_type": "markdown",
      "source": [
        "## Part 6.1: Graphing Loss, Accuracy, and Perplexity"
      ]
    },
    {
      "metadata": {
        "id": "y22jv0kqAmuA",
        "colab_type": "code",
        "outputId": "f35e2615-93c0-4d62-e43a-a3c525c8638d",
        "colab": {
          "base_uri": "https://localhost:8080/",
          "height": 640
        }
      },
      "cell_type": "code",
      "source": [
        "# Train Loss \n",
        "pt_util.plot([e[0] for e in train_losses], [l[1] for l in train_losses], 'Train Error Graph', 'Epoch', 'Loss')"
      ],
      "execution_count": 0,
      "outputs": [
        {
          "output_type": "display_data",
          "data": {
            "image/png": "[encoded data removed]",
            "text/plain": [
              "<matplotlib.figure.Figure at 0x7fbcb2d4e978>"
            ]
          },
          "metadata": {
            "tags": []
          }
        }
      ]
    },
    {
      "metadata": {
        "id": "XOLZ0yMfAwZR",
        "colab_type": "code",
        "outputId": "99fbd7eb-c4a2-4945-b2a6-45576399c8df",
        "colab": {
          "base_uri": "https://localhost:8080/",
          "height": 640
        }
      },
      "cell_type": "code",
      "source": [
        "# Test Loss\n",
        "pt_util.plot([e[0] for e in test_losses], [l[1] for l in test_losses], 'Test Error Graph', 'Epoch', 'Loss')"
      ],
      "execution_count": 0,
      "outputs": [
        {
          "output_type": "display_data",
          "data": {
            "image/png": "[encoded data removed]",
            "text/plain": [
              "<matplotlib.figure.Figure at 0x7fbc9df7ee10>"
            ]
          },
          "metadata": {
            "tags": []
          }
        }
      ]
    },
    {
      "metadata": {
        "id": "FKoMaubjAw5m",
        "colab_type": "code",
        "outputId": "d36585f5-b9d1-4631-8945-db5a2753de04",
        "colab": {
          "base_uri": "https://localhost:8080/",
          "height": 640
        }
      },
      "cell_type": "code",
      "source": [
        "# Test Accuracy\n",
        "pt_util.plot([e[0] for e in test_accuracies], [l[1] for l in test_accuracies], 'Test Accuracy Graph', 'Epoch', 'Loss')"
      ],
      "execution_count": 0,
      "outputs": [
        {
          "output_type": "display_data",
          "data": {
            "image/png": "[encoded data removed]",
            "text/plain": [
              "<matplotlib.figure.Figure at 0x7fbcb2d53908>"
            ]
          },
          "metadata": {
            "tags": []
          }
        }
      ]
    },
    {
      "metadata": {
        "id": "QBZg8L9CAxMA",
        "colab_type": "code",
        "outputId": "b6e25586-4229-498e-a1f9-4f097025bc9d",
        "colab": {
          "base_uri": "https://localhost:8080/",
          "height": 640
        }
      },
      "cell_type": "code",
      "source": [
        "# Train Perplexity \n",
        "pt_util.plot([e[0] for e in train_perplexities], [p[1] for p in train_perplexities], 'Train Perplexity Graph', 'Epoch', 'Perplexity')"
      ],
      "execution_count": 0,
      "outputs": [
        {
          "output_type": "display_data",
          "data": {
            "image/png": "[encoded data removed]",
            "text/plain": [
              "<matplotlib.figure.Figure at 0x7fbc9bf07668>"
            ]
          },
          "metadata": {
            "tags": []
          }
        }
      ]
    },
    {
      "metadata": {
        "id": "Fw2Q4WBMAxZ9",
        "colab_type": "code",
        "outputId": "6a753d22-eb23-4b2b-9fdd-b3e9b0595257",
        "colab": {
          "base_uri": "https://localhost:8080/",
          "height": 640
        }
      },
      "cell_type": "code",
      "source": [
        "# Test Perplexity\n",
        "pt_util.plot([e[0] for e in test_perplexities], [p[1] for p in test_perplexities], 'Test Perplexity Graph', 'Epoch', 'Perplexity')"
      ],
      "execution_count": 0,
      "outputs": [
        {
          "output_type": "display_data",
          "data": {
            "image/png": "[encoded data removed]",
            "text/plain": [
              "<matplotlib.figure.Figure at 0x7fbc9bed9da0>"
            ]
          },
          "metadata": {
            "tags": []
          }
        }
      ]
    },
    {
      "metadata": {
        "id": "r597GUTVjwZc",
        "colab_type": "text"
      },
      "cell_type": "markdown",
      "source": [
        "#Part 7: Experiments"
      ]
    },
    {
      "metadata": {
        "id": "zgLylYlp9kBK",
        "colab_type": "code",
        "outputId": "81630fb9-1c26-4d6e-84ed-df92a36daab9",
        "colab": {
          "base_uri": "https://localhost:8080/",
          "height": 394
        }
      },
      "cell_type": "code",
      "source": [
        "seed_words = 'Harry Potter and the'\n",
        "sequence_length = 200\n",
        "\n",
        "generated_sentence = generate_language(model, device, seed_words, sequence_length, vocab, 'max')\n",
        "print('generated with max\\t', generated_sentence)\n",
        "\n",
        "for ii in range(10):\n",
        "    generated_sentence = generate_language(model, device, seed_words, sequence_length, vocab, 'sample')\n",
        "    print('generated with sample\\t', generated_sentence)\n",
        "    \n",
        "for ii in range(10):\n",
        "    generated_sentence = generate_language(model, device, seed_words, sequence_length, vocab, 'beam')\n",
        "    print('generated with beam\\t', generated_sentence)"
      ],
      "execution_count": 0,
      "outputs": [
        {
          "output_type": "stream",
          "text": [
            "generated with max\t Harry Potter and the the the the the the the the the the the the the the the the the the the the the the the the the the the the the the the the the the the the the the the the the the the the the the the the the the the\n",
            "generated with sample\t Harry Potter and the. Han H the anin, th the waran s the toontid he he t atforid the the to arthe the the hary the f t he t t t \" he cory t ry Sjind wabe in's He tiny s sherid t TVintore s ag the tle le warin t waren H w\n",
            "generated with sample\t Harry Potter and the. s thor s wan in helid the ad hemod hon arin hake tun ary hane tand he ton than cor s the the in s lore the the he tato arin as to he s Hat t che d Has arora the d t he he t bar st d s pe t the ts h \n",
            "generated with sample\t Harry Potter and the s he aritSme he wad s chere se S s the thes chathe he hy s the be s ad s hed fo y bero s ted s s ain the an the furous t so athe o thare he H te the gag arid the, than he t s s ar war the the the the\n",
            "generated with sample\t Harry Potter and thefo therin s tharo he s t he Itlle s s touse t Hod me the tharous th on Horin t henid are the walon t an s s anthad ad the he tunoly in are min's s che he f s tar pe HHe t d hed thene s as wo then t at\n",
            "generated with sample\t Harry Potter and the(S. then ane me ap wo s to s ton Haro f arthe y t aro he ar s s t he Has the Buf tharid tel thond f R wathemen thenore che wan ais PNg t har be s wad s he t the hed Hary arinon bed S: tharhe be aroro \n",
            "generated with sample\t Harry Potter and the qube be he the cthe wad be the rino ho he wary s t he an tharin for his s t arotharind we arin's therin are s t war t an t H!\" sis themarit the fone the t he te t ave s. Ho or then thens the wo Hathe\n",
            "generated with sample\t Harry Potter and the is thetonorar t whale s tour le s f aro Hand Hed d the ar on's harint s ar he wag whe pile to h the t?\" s the wame war he t the the tary s the apare wothapin s t s he the hered he he be to1the be Hxe\n",
            "generated with sample\t Harry Potter and the3RS an at har Ho s sthe inge the Hron h. the s hary in t S. the he s ware t aroun therinthen se fore he hid wathe t the to t t Har og s t the n ared to p!\" g hered t s then he po ache chin he thin sh,\n",
            "generated with sample\t Harry Potter and thef t he aren thenoun thint Har Go t fro f war ag t the s Hath. th t anon war the s is ad t ther Ath s the H wid the the he the he the thean Lut p tharin be arind the bopole he t oro, ly s t t the are w\n",
            "generated with sample\t Harry Potter and thero he he the he ton Sas H d to f arive warinor anad he tin le t at the se me wed wan ary t fQun s g as the as the arar abe tory tod d s th s the fareche the athin P1y Hare s pre the he s che f t the t\n",
            "generated with beam\t Harry Potter and the the the d the he he tin then che hen the thad he thed che sthe he hele the ware s d thede thed the hed t as thed be the s thed the ware thely he the hed d s thethe s hind the s hed he the be hed arin\n",
            "generated with beam\t Harry Potter and the thele he thad thed whe the the ad the we thed the he the ware thar the the ad he t s the this he sthe hed he s the ho the he the t he the thed s the be the he the s whe hen the thenthe he he he s he \n",
            "generated with beam\t Harry Potter and the d thed the ly t thed s he he s hed the the as then the th the the me hare hed the the s s ched ther there then the the the ached the he Hary ware the s s the be the he thin the hed the the s t the wa\n",
            "generated with beam\t Harry Potter and the thed t, he s aro he the the s t ad the than, the s d s the the thenthe th the hed he warary the heled thed athe thed the the s, the hid s thenthe the the thin the ar thed s he s d there the hary the \n",
            "generated with beam\t Harry Potter and thed sthed was the thed warid he thin thed s he thinthe the the war he the s s the hed thed the hed thin the the are s he the thid the thed whed the s s the he hen thin the the the thery thelon the warin\n",
            "generated with beam\t Harry Potter and the hare te then the hed wary he he the thes s s the thes thed the wathe hend he har the thed he be therid thenthe s. the the sthe the the wo the hed t the he the d ware he s the s thare the me hed he th\n",
            "generated with beam\t Harry Potter and thele are he thenthed hed s the he the he thes the s wared he the s the s id the d he the ware thed the ge the the the f the thed the hed s whe thed d d t thed are the the s wad s fous thed be hed hed s \n",
            "generated with beam\t Harry Potter and the is he the hede t the thed se s the s wary d the thes he the the the he the t he sthed d t thed s the thed t the che warid thin he s s the th the s the the thid the he the che the arithed he t he hed \n",
            "generated with beam\t Harry Potter and thend ted the ad the he he s thed thend the the he the le he we the wared the tre thathed the thin then the se he thele s the he he thed thed the he thed the the the t the s ad he the he thele wathe he t\n",
            "generated with beam\t Harry Potter and the thed the te hed the the theno thed thed Hare the the wan s the s the thin the thed o the the here the thed the he thed thithe he he to s the wanthen the thed thed had the arithis he t thed he the he \n"
          ],
          "name": "stdout"
        }
      ]
    },
    {
      "metadata": {
        "id": "pn0RWPBFjzkP",
        "colab_type": "text"
      },
      "cell_type": "markdown",
      "source": [
        "#Part 8: Other things\n",
        "Choose **two** of the following to try. It will probably be beneficial to create new code cells below rather than modifying your earlier code:\n",
        "\n",
        "\n",
        "1. Train on a different text corpus. The corpus should be at least as large as the provided Harry Potter dataset.\n",
        "    - Options include other books, websites, tweets, wikipedia articles etc.\n",
        "    -  (Hint: this is probably the easiest one)\n",
        "2. Train a model using student-forcing.\n",
        "    - You will have to modify the network inputs.\n",
        "    - You will need to use `torch.nn.GRUCell` and its like. https://pytorch.org/docs/stable/nn.html#grucell\n",
        "    - You cannot simply feed an empty string to start off a sequence. The sequence must be somehow conditioned on prior ground truth.\n",
        "3. Train a model on words instead of characters.\n",
        "    - You will need to redefine your input/output space vocabulary as well.\n",
        "    - You should replace any words that occur less than 5 times in the dataset with an <unknown\\> token. \n",
        "4. Write a new data loader which picks a random point in the text to start from and returns 10 consecutive sequences starting from that point onward. \n",
        "    - You should also modify the train and test functions to reset the memory when you reset the sequence.\n",
        "    - You should consider an epoch to be feeding in approximately the number of characters in the dataset.\n",
        "    - You may run into issues if your dataset size/epochs are not a multiple of your batch size.\n",
        "5. Train on sentences instead of one long sequence.\n",
        "    - You should still produce output character by character.\n",
        "    - Sentences can end with a . ! ?, but words like Mr. generally do not end a sentence.\n",
        "    - A sentence may also continue in the case of quotations. For example: ``\"Do your homework!\" said the TAs.`` is only one sentence.\n",
        "    - Your parsing does not have to be perfect, but try to incorporate as many of these rules as you can.\n",
        "    - Feel free to use existing NLP tools for finding sentence endings. One is spacy: https://spacy.io/usage/linguistic-features#section-sbd\n",
        "    - All sentences should end with an <eos\\> token. Your output sampling should now stop when it produces the <eos\\> token.\n",
        "\n"
      ]
    },
    {
      "metadata": {
        "id": "aYlKROK0GRXy",
        "colab_type": "text"
      },
      "cell_type": "markdown",
      "source": [
        "## Part 8.1: Training on a Different Corpus"
      ]
    },
    {
      "metadata": {
        "id": "GKHxifjzGYew",
        "colab_type": "code",
        "colab": {}
      },
      "cell_type": "code",
      "source": [
        "SEQUENCE_LENGTH = 150\n",
        "BATCH_SIZE = 256\n",
        "FEATURE_SIZE = 512\n",
        "TEST_BATCH_SIZE = 256\n",
        "EPOCHS = 20\n",
        "LEARNING_RATE = 0.002\n",
        "WEIGHT_DECAY = 0.0005\n",
        "USE_CUDA = True\n",
        "PRINT_INTERVAL = 10\n",
        "LOG_PATH = CHILDREN_PATH + 'logs/log.pkl'\n",
        "\n",
        "\n",
        "data_train = HarryPotterDataset(CHILDREN_PATH + 'children_chars_train.pkl', SEQUENCE_LENGTH, BATCH_SIZE)\n",
        "data_test = HarryPotterDataset(CHILDREN_PATH + 'children_chars_test.pkl', SEQUENCE_LENGTH, TEST_BATCH_SIZE)\n",
        "vocab = data_train.vocab\n",
        "\n",
        "use_cuda = USE_CUDA and torch.cuda.is_available()\n",
        "\n",
        "device = torch.device(\"cuda\" if use_cuda else \"cpu\")\n",
        "print('Using device', device)\n",
        "import multiprocessing\n",
        "num_workers = multiprocessing.cpu_count()\n",
        "print('num workers:', num_workers)\n",
        "\n",
        "kwargs = {'num_workers': num_workers,\n",
        "          'pin_memory': True} if use_cuda else {}\n",
        "\n",
        "train_loader = torch.utils.data.DataLoader(data_train, batch_size=BATCH_SIZE,\n",
        "                                           shuffle=False, **kwargs)\n",
        "test_loader = torch.utils.data.DataLoader(data_test, batch_size=TEST_BATCH_SIZE,\n",
        "                                          shuffle=False, **kwargs)\n",
        "\n",
        "model = HarryPotterNet(data_train.vocab_size(), FEATURE_SIZE).to(device)\n",
        "\n",
        "# Adam is an optimizer like SGD but a bit fancier. It tends to work faster and better than SGD.\n",
        "# We will talk more about different optimization methods in class.\n",
        "optimizer = optim.Adam(model.parameters(), lr=LEARNING_RATE, weight_decay=WEIGHT_DECAY)\n",
        "start_epoch = 0#model.load_last_model(DATA_PATH + 'checkpoints')\n",
        "\n",
        "train_losses, train_perplexities, test_losses, test_perplexities, test_accuracies = [], [], [], [], []#pt_util.read_log(LOG_PATH, ([], [], []))\n",
        "test_loss, test_perplexity, test_accuracy = test(model, device, test_loader)\n",
        "\n",
        "test_losses.append((start_epoch, test_loss))\n",
        "test_perplexities.append((start_epoch, test_perplexity))\n",
        "test_accuracies.append((start_epoch, test_accuracy))\n",
        "\n",
        "try:\n",
        "    for epoch in range(start_epoch, EPOCHS + 1):\n",
        "        lr = LEARNING_RATE * np.power(0.25, (int(epoch / 6)))\n",
        "        train_loss, train_perplexity = train(model, device, train_loader, lr, epoch, PRINT_INTERVAL)\n",
        "        test_loss, test_perplexity, test_accuracy = test(model, device, test_loader)\n",
        "        train_losses.append((epoch, train_loss))\n",
        "        train_perplexities.append((epoch, train_perplexity))\n",
        "        test_losses.append((epoch, test_loss))\n",
        "        test_perplexities.append((epoch, test_perplexity))\n",
        "        test_accuracies.append((epoch, test_accuracy))\n",
        "        pt_util.write_log(LOG_PATH, (train_losses, test_losses, test_accuracies))\n",
        "        model.save_best_model(test_accuracy, CHILDREN_PATH + 'checkpoints/%03d.pt' % epoch)\n",
        "        seed_words = 'Harry Potter'\n",
        "        \"\"\"\n",
        "        for ii in range(10):\n",
        "            generated_sentence = generate_language(model, device, seed_words, 200, vocab, 'sample')\n",
        "            print('generated sample\\t', generated_sentence)\n",
        "        generated_sentence = generate_language(model, device, seed_words, 200, vocab, 'beam')\n",
        "        print('generated beam\\t\\t', generated_sentence)\n",
        "        print('')\n",
        "        \"\"\"\n",
        "except KeyboardInterrupt as ke:\n",
        "    print('Interrupted')\n",
        "except:\n",
        "    import traceback\n",
        "    traceback.print_exc()\n",
        "finally:\n",
        "    print('Saving final model')\n",
        "    model.save_model(CHILDREN_PATH + 'checkpoints/%03d.pt' % epoch, 0)\n"
      ],
      "execution_count": 0,
      "outputs": []
    },
    {
      "metadata": {
        "colab_type": "code",
        "id": "IFSJSUwqHnH5",
        "colab": {}
      },
      "cell_type": "code",
      "source": [
        "# Train Loss \n",
        "pt_util.plot([e[0] for e in train_losses], [l[1] for l in train_losses], 'Train Error Graph', 'Epoch', 'Loss')"
      ],
      "execution_count": 0,
      "outputs": []
    },
    {
      "metadata": {
        "colab_type": "code",
        "id": "IRMOfc2GHnJC",
        "colab": {}
      },
      "cell_type": "code",
      "source": [
        "# Test Loss\n",
        "pt_util.plot([e[0] for e in test_losses], [l[1] for l in test_losses], 'Test Error Graph', 'Epoch', 'Loss')"
      ],
      "execution_count": 0,
      "outputs": []
    },
    {
      "metadata": {
        "colab_type": "code",
        "id": "LBmwd64PHnJK",
        "colab": {}
      },
      "cell_type": "code",
      "source": [
        "# Test Accuracy\n",
        "pt_util.plot([e[0] for e in test_accuracies], [l[1] for l in test_accuracies], 'Test Accuracy Graph', 'Epoch', 'Loss')"
      ],
      "execution_count": 0,
      "outputs": []
    },
    {
      "metadata": {
        "colab_type": "code",
        "id": "29ymn56OHnJW",
        "colab": {}
      },
      "cell_type": "code",
      "source": [
        "# Train Perplexity \n",
        "pt_util.plot([e[0] for e in train_perplexities], [p[1] for p in train_perplexities], 'Train Perplexity Graph', 'Epoch', 'Perplexity')"
      ],
      "execution_count": 0,
      "outputs": []
    },
    {
      "metadata": {
        "colab_type": "code",
        "id": "EFEDDeY0HnJe",
        "colab": {}
      },
      "cell_type": "code",
      "source": [
        "# Test Perplexity\n",
        "pt_util.plot([e[0] for e in test_perplexities], [p[1] for p in test_perplexities], 'Test Perplexity Graph', 'Epoch', 'Perplexity')"
      ],
      "execution_count": 0,
      "outputs": []
    },
    {
      "metadata": {
        "id": "vWMlB2U3onZ0",
        "colab_type": "text"
      },
      "cell_type": "markdown",
      "source": [
        "#Part 9: Short answer questions\n",
        "Please answer these questions, and put the answers in a file called homework2_python.pdf in your repository.\n",
        "\n",
        "\n",
        "1. Just like last time, provide plots for training error, test error, and test accuracy. Also provide a plot of your train and test perplexity per epoch.\n",
        "    - In class we defined perplexity as `2^(p*log_2(q))`, However the PyTorch cross entropy function uses the natural log. To compute perplexity directly from the cross entropy, you should use `e^p*ln(q)`.\n",
        "    - We encourage you to try multiple network modifications and hyperparameters, but you only need to provide plots for your best model. Please list the modifications and hyperparameters.    \n",
        "    \n",
        "2. What was your final test accuracy? What was your final test perplexity?\n",
        "3. What was your favorite sentence generated via each of the sampling methods? What was the prompt you gave to generate that sentence?\n",
        "4. Which sampling method seemed to generate the best results? Why do you think that is?\n",
        "5. For sampling and beam search, try multiple temperatures between 0 and 2. \n",
        "    - Which produces the best outputs? Best as in made the most sense, your favorite, or funniest, doesn't really matter how you decide.\n",
        "    - What does a temperature of 0 do? What does a temperature of 0<temp<1 do? What does a temperature of 1 do? What does a temperature of above 1 do? What would a negative temperature do (assuming the code allowed for negative temperature)?\n",
        "    \n",
        "Questions for each of the \"Other things\" sections. Only answer the questions corresponding to the ones you chose.\n",
        "\n",
        "1. New Corpus\n",
        "    1. What corpus did you choose? How many characters were in it?\n",
        "    2. What differences did you notice between the sentences generated with the new/vs old corpus.\n",
        "    3. Provide outputs for each sampling method on the new corpus (you can pick one temperature, but say what it was).\n",
        "\n",
        "2. Student-forcing\n",
        "    1. What new difficulties did you run into while training?\n",
        "    2. Were the results better than with teacher-forcing?\n",
        "    3. Provide some outputs for each sampling method (you can pick one temperature, but say what it was).\n",
        "    \n",
        "3. Words\n",
        "    1. What new difficulties did you run into while training?\n",
        "    2. How large was your vocabulary?\n",
        "    3. Did you find that different batch size, sequence length, and feature size and other hyperparameters were needed? If so, what worked best for you?\n",
        "\n",
        "4. Random Dataloader\n",
        "    1. What new difficulties did you run into while training?\n",
        "    2. Were the results better than with the original dataloader?\n",
        "    3. Provide some outputs for each sampling method (you can pick one temperature, but say what it was). \n",
        "    \n",
        "5. Sentences\n",
        "    1. What new difficulties did you run into while training? What new difficulties did you run into while preprocessing?\n",
        "    2. Were the results better than with the original dataloader?\n",
        "    3. Provide some outputs for each sampling method (you can pick one temperature, but say what it was). \n",
        "\n",
        "\n",
        "    "
      ]
    }
  ]
}