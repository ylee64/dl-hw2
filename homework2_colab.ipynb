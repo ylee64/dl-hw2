{
  "nbformat": 4,
  "nbformat_minor": 0,
  "metadata": {
    "colab": {
      "name": "homework2_colab.ipynb",
      "version": "0.3.2",
      "provenance": [],
      "collapsed_sections": [],
      "toc_visible": true
    },
    "kernelspec": {
      "name": "python3",
      "display_name": "Python 3"
    },
    "accelerator": "GPU"
  },
  "cells": [
    {
      "metadata": {
        "id": "S2IaITBP0f5R",
        "colab_type": "text"
      },
      "cell_type": "markdown",
      "source": [
        "# Homework 2\n",
        "In this homework, we will explore language generation using character-level RNNs. Sounds awesome, right?\n",
        "\n",
        "A few notes at the beginning:\n",
        "- It might be useful for you to read the whole assignment before beginning. Especially the last two sections so you know what to record for turning in.\n",
        "- Much of the required knowledge in this (and past) homeworks about Python, PyTorch, etc. are not explained fully here. Instead, we expect you to use the existing documentation, search engines, Stack Overflow, etc. for implementation details.\n",
        "- That being said, we have listed several functions in parts of the homework where knowing those functions exist would be especially useful. However you will still need to read the docs on how to specifically use the functions.\n",
        "\n",
        "# Part 0: Initial setup\n",
        "You should recognize this code from last time.\n"
      ]
    },
    {
      "metadata": {
        "id": "4GS0yuGl0mHQ",
        "colab_type": "code",
        "outputId": "76d1dd88-c75f-4730-fbc4-2afaac819fa3",
        "colab": {
          "base_uri": "https://localhost:8080/",
          "height": 360
        }
      },
      "cell_type": "code",
      "source": [
        "# This is code to download and install pytorch\n",
        "import os\n",
        "os.environ[\"CUDA_LAUNCH_BLOCKING\"] = \"0\"\n",
        "from wheel.pep425tags import get_abbr_impl, get_impl_ver, get_abi_tag\n",
        "platform = '{}{}-{}'.format(get_abbr_impl(), get_impl_ver(), get_abi_tag())\n",
        "\n",
        "accelerator = 'cu80' if os.path.exists('/opt/bin/nvidia-smi') else 'cpu'\n",
        "!pip install http://download.pytorch.org/whl/{accelerator}/torch-0.4.1-{platform}-linux_x86_64.whl torchvision\n",
        "\n",
        "import torch\n",
        "print('Version', torch.__version__)\n",
        "print('CUDA enabled:', torch.cuda.is_available())"
      ],
      "execution_count": 1,
      "outputs": [
        {
          "output_type": "stream",
          "text": [
            "Collecting torch==0.4.1 from http://download.pytorch.org/whl/cu80/torch-0.4.1-cp36-cp36m-linux_x86_64.whl\n",
            "\u001b[?25l  Downloading http://download.pytorch.org/whl/cu80/torch-0.4.1-cp36-cp36m-linux_x86_64.whl (483.0MB)\n",
            "\u001b[K    100% |████████████████████████████████| 483.0MB 61.7MB/s \n",
            "tcmalloc: large alloc 1073750016 bytes == 0x56660000 @  0x7f6fe9f4a2a4 0x594e17 0x626104 0x51190a 0x4f5277 0x510c78 0x5119bd 0x4f5277 0x4f3338 0x510fb0 0x5119bd 0x4f5277 0x4f3338 0x510fb0 0x5119bd 0x4f5277 0x4f3338 0x510fb0 0x5119bd 0x4f6070 0x510c78 0x5119bd 0x4f5277 0x4f3338 0x510fb0 0x5119bd 0x4f6070 0x4f3338 0x510fb0 0x5119bd 0x4f6070\n",
            "\u001b[?25hCollecting torchvision\n",
            "\u001b[?25l  Downloading https://files.pythonhosted.org/packages/ca/0d/f00b2885711e08bd71242ebe7b96561e6f6d01fdb4b9dcf4d37e2e13c5e1/torchvision-0.2.1-py2.py3-none-any.whl (54kB)\n",
            "\u001b[K    100% |████████████████████████████████| 61kB 2.7MB/s \n",
            "\u001b[?25hRequirement already satisfied: six in /usr/local/lib/python3.6/dist-packages (from torchvision) (1.11.0)\n",
            "Collecting pillow>=4.1.1 (from torchvision)\n",
            "\u001b[?25l  Downloading https://files.pythonhosted.org/packages/62/94/5430ebaa83f91cc7a9f687ff5238e26164a779cca2ef9903232268b0a318/Pillow-5.3.0-cp36-cp36m-manylinux1_x86_64.whl (2.0MB)\n",
            "\u001b[K    100% |████████████████████████████████| 2.0MB 4.3MB/s \n",
            "\u001b[?25hRequirement already satisfied: numpy in /usr/local/lib/python3.6/dist-packages (from torchvision) (1.14.6)\n",
            "Installing collected packages: torch, pillow, torchvision\n",
            "  Found existing installation: Pillow 4.0.0\n",
            "    Uninstalling Pillow-4.0.0:\n",
            "      Successfully uninstalled Pillow-4.0.0\n",
            "Successfully installed pillow-5.3.0 torch-0.4.1 torchvision-0.2.1\n",
            "Version 0.4.1\n",
            "CUDA enabled: True\n"
          ],
          "name": "stdout"
        }
      ]
    },
    {
      "metadata": {
        "id": "6t3ZIEll0pr-",
        "colab_type": "code",
        "outputId": "7da13053-2608-4e20-9408-f7548ba69712",
        "colab": {
          "base_uri": "https://localhost:8080/",
          "height": 139
        }
      },
      "cell_type": "code",
      "source": [
        "from google.colab import drive\n",
        "drive.mount('/gdrive')\n",
        "!ls /gdrive"
      ],
      "execution_count": 2,
      "outputs": [
        {
          "output_type": "stream",
          "text": [
            "Go to this URL in a browser: https://accounts.google.com/o/oauth2/auth?client_id=947318989803-6bn6qk8qdgf4n4g3pfee6491hc0brc4i.apps.googleusercontent.com&redirect_uri=urn%3Aietf%3Awg%3Aoauth%3A2.0%3Aoob&scope=email%20https%3A%2F%2Fwww.googleapis.com%2Fauth%2Fdocs.test%20https%3A%2F%2Fwww.googleapis.com%2Fauth%2Fdrive%20https%3A%2F%2Fwww.googleapis.com%2Fauth%2Fdrive.photos.readonly%20https%3A%2F%2Fwww.googleapis.com%2Fauth%2Fpeopleapi.readonly&response_type=code\n",
            "\n",
            "Enter your authorization code:\n",
            "··········\n",
            "Mounted at /gdrive\n",
            "'My Drive'  'Team Drives'\n"
          ],
          "name": "stdout"
        }
      ]
    },
    {
      "metadata": {
        "id": "PEzPNAIY0vkm",
        "colab_type": "text"
      },
      "cell_type": "markdown",
      "source": [
        "# Part 1: Upload the dataset\n",
        "We will be using the complete text of Harry Potter as our corpus. We will provide it for you in a not-very-well-formatted way.\n",
        "Run this code to navigate to the BASE_PATH directory and upload the homework2.tar file inside the BASE_PATH, then extract it.\n",
        "\n"
      ]
    },
    {
      "metadata": {
        "id": "CLVJPc_90vsB",
        "colab_type": "code",
        "outputId": "d5c876ce-c176-47d0-9358-993b2db2cc96",
        "colab": {
          "base_uri": "https://localhost:8080/",
          "height": 51
        }
      },
      "cell_type": "code",
      "source": [
        "import os\n",
        "BASE_PATH = '/gdrive/My Drive/colab_files/homework2/'\n",
        "if not os.path.exists(BASE_PATH):\n",
        "    os.makedirs(BASE_PATH)\n",
        "DATA_PATH = BASE_PATH + 'harry_potter/'\n",
        "CHILDREN_PATH = BASE_PATH + 'children_books/'\n",
        "\n",
        "!pwd\n",
        "!ls\n",
        "os.chdir(BASE_PATH)\n",
        "if not os.path.exists(DATA_PATH + 'harry_potter.txt'):\n",
        "    !wget http://pjreddie.com/media/files/homework2.tar.gz\n",
        "    !tar -zxvf homework2.tar.gz\n",
        "    !rm homework2.tar.gz\n",
        "import pt_util\n",
        "os.chdir('/content')"
      ],
      "execution_count": 19,
      "outputs": [
        {
          "output_type": "stream",
          "text": [
            "/content\n",
            "sample_data\n"
          ],
          "name": "stdout"
        }
      ]
    },
    {
      "metadata": {
        "id": "hd1Qx66s19Pl",
        "colab_type": "code",
        "colab": {}
      },
      "cell_type": "code",
      "source": [
        "import torch\n",
        "import torch.nn as nn\n",
        "from torchvision import datasets\n",
        "from torchvision import transforms\n",
        "import numpy as np\n",
        "import torch.nn.functional as F\n",
        "import torch.optim as optim\n",
        "import sys\n",
        "import pickle\n",
        "import re\n",
        "sys.path.append(BASE_PATH)\n",
        "import pt_util\n",
        "import math"
      ],
      "execution_count": 0,
      "outputs": []
    },
    {
      "metadata": {
        "id": "AxIvm7h62tfx",
        "colab_type": "text"
      },
      "cell_type": "markdown",
      "source": [
        "#Part 2: Preprocessing the data\n",
        "In previous homeworks, we have provided a cleaned version of the data. But this time you'll have to do some of that cleaning yourselves.\n",
        "\n",
        "Hints:\n",
        "- train_text and test_text should contain the class indices for the character tokens from the data file. For example, if the text was **`\"ABA CDBE\"`**, the token version would be a numpy array with contents `[0, 1, 0, 2, 3, 4, 1, 5]`\n",
        "- The harry_potter.txt file has weird spacing. You might want to replace all the whitespace characters (space, \\n, \\t, etc.) in the file with the space character.\n",
        "- You should output two files. One for training and one for testing. The training should be the first 80% of the characters.\n",
        "- voc2ind is a map from character to the index of the class for that character. There is no predefined vocabulary, but you will need to be consistent across all tasks that use the vocabulary. For the example above, the voc2ind would be `{'A': 0, 'B': 1, ' ': 2, 'C': 3, 'D': 4, 'E': 5}`\n",
        "- ind2voc is the inverse of voc2ind\n",
        "\n"
      ]
    },
    {
      "metadata": {
        "id": "6oZq_S6k3GpB",
        "colab_type": "code",
        "colab": {}
      },
      "cell_type": "code",
      "source": [
        "def prepare_data(data_path, corpus_name, file_output_name):\n",
        "    with open(data_path + corpus_name) as f:\n",
        "        # This reads all the data from the file, but does not do any processing on it.\n",
        "        data = f.read()\n",
        "    \n",
        "    # TODO Add more preprocessing\n",
        "    separator = \" \"\n",
        "    data = separator.join(data.split())\n",
        "    voc2ind = {}\n",
        "    \n",
        "    # Compute voc2ind and transform the data into an integer representation of the tokens.\n",
        "    int_rep = []\n",
        "    vocab_ind = 0\n",
        "    \n",
        "    for char in data:\n",
        "      # TODO Fill this in\n",
        "      voc_value = vocab_ind;\n",
        "      if char not in voc2ind:\n",
        "        voc2ind[char] = voc_value\n",
        "        vocab_ind += 1\n",
        "      else:\n",
        "        voc_value = voc2ind[char]\n",
        "      # put the correct vocab value into the processed data numpy array\n",
        "      int_rep.append(voc_value) \n",
        "\n",
        "    ind2voc = {val: key for key, val in voc2ind.items()}\n",
        "\n",
        "    train_text = np.array(int_rep[:int(0.8 * len(int_rep))]) # TODO Fill this in\n",
        "    test_text = np.array(int_rep[int(0.8 * len(int_rep)):]) # TODO Fill this in\n",
        "\n",
        "    pickle.dump({'tokens': train_text, 'ind2voc': ind2voc, 'voc2ind':voc2ind}, open(data_path + file_output_name + '_train.pkl', 'wb'))\n",
        "    pickle.dump({'tokens': test_text, 'ind2voc': ind2voc, 'voc2ind':voc2ind}, open(data_path + file_output_name + 'r_chars_test.pkl', 'wb'))\n",
        "    \n",
        "class Vocabulary(object):\n",
        "    def __init__(self, data_file):\n",
        "        with open(data_file, 'rb') as data_file:\n",
        "            dataset = pickle.load(data_file)\n",
        "        self.ind2voc = dataset['ind2voc']\n",
        "        self.voc2ind = dataset['voc2ind']\n",
        "\n",
        "    # Returns a string representation of the tokens.\n",
        "    def array_to_words(self, arr):\n",
        "        return ''.join([self.ind2voc[int(ind)] for ind in arr])\n",
        "\n",
        "    # Returns a torch tensor representing each token in words.\n",
        "    def words_to_array(self, words):\n",
        "        return torch.LongTensor([self.voc2ind[word] for word in words])\n",
        "\n",
        "    # Returns the size of the vocabulary.\n",
        "    def __len__(self):\n",
        "        return len(self.voc2ind)"
      ],
      "execution_count": 0,
      "outputs": []
    },
    {
      "metadata": {
        "id": "KbwdWAMEMROw",
        "colab_type": "text"
      },
      "cell_type": "markdown",
      "source": [
        "## Part 8.2 Preprocess Words"
      ]
    },
    {
      "metadata": {
        "id": "auRosIiRMcaZ",
        "colab_type": "code",
        "colab": {}
      },
      "cell_type": "code",
      "source": [
        "!python -m spacy download en"
      ],
      "execution_count": 0,
      "outputs": []
    },
    {
      "metadata": {
        "id": "3USn4Gr_MfHf",
        "colab_type": "code",
        "colab": {}
      },
      "cell_type": "code",
      "source": [
        "import spacy\n",
        "from spacy.tokenizer import Tokenizer\n",
        "\n",
        "def prepare_word_data(data_path):\n",
        "    with open(data_path) as f:\n",
        "        # This reads all the data from the file, but does not do any processing on it.\n",
        "        data = f.read()\n",
        "        \n",
        "    # Get rid of whitespace\n",
        "    separator = \" \"\n",
        "    data = separator.join(data.split())\n",
        "    voc2ind = {'<unknown>' : 0}\n",
        "    \n",
        "    # Initialize data and tokenizer\n",
        "    processed_data = np.zeros(0)\n",
        "    nlp = spacy.load('en')\n",
        "    tokenizer = Tokenizer(nlp.vocab)\n",
        "    tokenized = tokenizer(data)\n",
        "    \n",
        "    # Filter out words that appear less than 5 times\n",
        "    word2count = {}\n",
        "    for token in tokenized:\n",
        "        if token.text not in word2count:\n",
        "            word2count[token.text] = 0\n",
        "        word2count[token.text] += 1\n",
        "    tokens = [token for token, count in word2count.items() if count >= 5]\n",
        "    \n",
        "    # Map vocab to index\n",
        "    for token in tokens:\n",
        "        voc2ind[token] = len(voc2ind)    \n",
        "    \n",
        "    # Creating numerical representation of the data\n",
        "    for word in tokenized:\n",
        "        if word.text not in voc2ind:\n",
        "            processed_data = np.append(processed_data, voc2ind['<unknown>'])\n",
        "        else:\n",
        "            processed_data = np.append(processed_data, voc2ind[word.text])\n",
        "    \n",
        "    data = processed_data\n",
        "    ind2voc = {val: key for key, val in voc2ind.items()}\n",
        "    print(voc2ind)\n",
        "\n",
        "    train_text = data[0 : int(len(data) * .8)] \n",
        "    test_text = data[int(len(data) * .8) : len(data)] \n",
        "\n",
        "    pickle.dump({'tokens': train_text, 'ind2voc': ind2voc, 'voc2ind':voc2ind}, open(DATA_PATH + 'harry_potter_words_train.pkl', 'wb'))\n",
        "    pickle.dump({'tokens': test_text, 'ind2voc': ind2voc, 'voc2ind':voc2ind}, open(DATA_PATH + 'harry_potter_words_test.pkl', 'wb'))  \n",
        "    \n",
        "class Vocabulary(object):\n",
        "    def __init__(self, data_file):\n",
        "        with open(data_file, 'rb') as data_file:\n",
        "            dataset = pickle.load(data_file)\n",
        "        self.ind2voc = dataset['ind2voc']\n",
        "        self.voc2ind = dataset['voc2ind']\n",
        "        nlp = spacy.load('en')\n",
        "        self.tokenizer = Tokenizer(nlp.vocab)\n",
        "\n",
        "    # Returns a string representation of the tokens.\n",
        "    def array_to_words(self, arr):\n",
        "        return ' '.join([self.ind2voc[int(ind)] if int(ind) in self.ind2voc else '<unknown>' for ind in arr])\n",
        "\n",
        "    # Returns a torch tensor representing each token in words.\n",
        "    def words_to_array(self, words):\n",
        "        return torch.LongTensor([self.voc2ind[word.text] if word.text in self.voc2ind else self.voc2ind['<unknown>'] for word in self.tokenizer(words)])\n",
        "\n",
        "    # Returns the size of the vocabulary.\n",
        "    def __len__(self):\n",
        "        return len(self.voc2ind)"
      ],
      "execution_count": 0,
      "outputs": []
    },
    {
      "metadata": {
        "id": "pt-jW-CLMNuL",
        "colab_type": "code",
        "colab": {}
      },
      "cell_type": "code",
      "source": [
        "# Prepare the data for each corpus\n",
        "\n",
        "# Harry Potter character data\n",
        "prepare_data(DATA_PATH, 'harry_potter.txt', 'harry_potter_chars')\n",
        "# Children's stories data\n",
        "#prepare_data(CHILDREN_PATH, 'children_books.txt', 'children_chars')\n",
        "# Harry Potter word data (This takes a while to load)\n",
        "#prepare_word_data(DATA_PATH + 'harry_potter.txt')"
      ],
      "execution_count": 0,
      "outputs": []
    },
    {
      "metadata": {
        "id": "kzX1tUv8ilYV",
        "colab_type": "text"
      },
      "cell_type": "markdown",
      "source": [
        "#Part 3: Loading the data\n",
        "This is possibly the trickiest part of this homework. In the past, batches were not correlated with each other, and the data within a single minibatch was also not correlated, so you could basically draw randomly from the dataset. That is not the case here. Instead, you should return sequences from the dataset.\n",
        "\n",
        "Your instructions are to implement the following. First, imagine splitting the dataset into N chunks where N is the batch_size and the chunks are contiguous parts of the data. For each batch, you should return one sequence from each of the chunks. The batches should also be sequential an example is described below.\n",
        "\n",
        "The data is 20 characters long `[1, 2, 3, ...20]`. The batch size is 2 and the sequence length is 4\n",
        "- The 1st batch should consist of  `(data =  [[1, 2, 3, 4]; [11, 12, 13, 14]], labels = [[2, 3, 4, 5]; [12, 13, 14, 15]])`\n",
        "- The 2nd batch should consist of `(data =  [[5, 6, 7, 8]; [15, 16, 17, 18]], labels = [[6, 7, 8, 9]; [16, 17, 18, 19]])`\n",
        "- The 3rd batch should consist of `(data =  [[9]; [19]], labels = [[10]; [20]])`\n",
        "- There is no 4th batch.\n",
        "\n",
        "Hints:\n",
        "- To work with the rest of the code, your len(dataset) should be a multiple of the batch_size. \n",
        "- Removing the last bit to make the data the proper shape will probably give better results than padding with 0s.\n",
        "- It is OK to have one batch be shorter than the others as long as all entries in that batch are the same length.\n",
        "- Notice that the last label in one batch is the first data in the next batch. Be careful of off-by-one errors.\n",
        "\n"
      ]
    },
    {
      "metadata": {
        "id": "44v6o0JwiwXk",
        "colab_type": "code",
        "colab": {}
      },
      "cell_type": "code",
      "source": [
        "class HarryPotterDataset(torch.utils.data.Dataset):\n",
        "    def __init__(self, data_file, sequence_length, batch_size):\n",
        "        super(HarryPotterDataset, self).__init__()\n",
        "\n",
        "        self.sequence_length = sequence_length\n",
        "        self.batch_size = batch_size\n",
        "        self.vocab = Vocabulary(data_file)\n",
        "\n",
        "        with open(data_file, 'rb') as data_pkl:\n",
        "            dataset = pickle.load(data_pkl)\n",
        "\n",
        "        # TODO: Any preprocessing on the data to get it to the right shape.\n",
        "        # making the datset a multiple of the batch_size\n",
        "        dataset = dataset['tokens']\n",
        "        dataset = dataset[0 : len(dataset) - len(dataset)%batch_size]\n",
        "        self.dataset = dataset\n",
        "\n",
        "    def __len__(self):\n",
        "        # TODO return the number of unique sequences you have, not the number of characters.\n",
        "        num_seq_chunk = (len(self.dataset) / self.batch_size) / self.sequence_length\n",
        "        return int(math.ceil(num_seq_chunk)) * self.batch_size\n",
        "        \n",
        "    def __getitem__(self, idx):\n",
        "        # Return the data and label for a character sequence as described above.\n",
        "        # The data and labels should be torch long tensors.\n",
        "        # You should return a single entry for the batch using the idx to decide which chunk you are \n",
        "        # in and how far down in the chunk you are.\n",
        "        \n",
        "        chunk_size = len(self.dataset) // self.batch_size\n",
        "        chunk_start_index = (idx % self.batch_size) * chunk_size\n",
        "        seq_start_index =(idx // self.batch_size) * self.sequence_length\n",
        "        start_index = chunk_start_index + seq_start_index\n",
        "        \n",
        "        end_index = start_index + self.sequence_length + 1\n",
        "        end_index = end_index if end_index < chunk_start_index + chunk_size else chunk_start_index + chunk_size\n",
        "        \n",
        "        data = self.dataset[start_index : end_index]\n",
        "        data = torch.LongTensor(data)\n",
        "        \n",
        "        return data[:-1], data[1:]\n",
        "\n",
        "    def vocab_size(self):\n",
        "        return len(self.vocab)"
      ],
      "execution_count": 0,
      "outputs": []
    },
    {
      "metadata": {
        "id": "8kYKDZoj2jCV",
        "colab_type": "text"
      },
      "cell_type": "markdown",
      "source": [
        "# Part 4: Defining the Network\n",
        "This time we will provide a network that should already get pretty good performance. You will still need to write the forward pass and inference functions. You may also choose to modify the network to try and get better performance.\n",
        "\n",
        "__BE CAREFUL:__ We have specified that the data will be fed in as batch_first. Look at the documentation if you are confused about the implications of this as well as how to call it for the forward pass. https://pytorch.org/docs/stable/nn.html#torch.nn.GRU\n",
        "    \n"
      ]
    },
    {
      "metadata": {
        "id": "mO21UXLj2ixn",
        "colab_type": "code",
        "colab": {}
      },
      "cell_type": "code",
      "source": [
        "TEMPERATURE = 1\n",
        "\n",
        "class HarryPotterNet(nn.Module):\n",
        "    def __init__(self, vocab_size, feature_size):\n",
        "        super(HarryPotterNet, self).__init__()\n",
        "        self.vocab_size = vocab_size\n",
        "        self.feature_size = feature_size\n",
        "        self.encoder = nn.Embedding(self.vocab_size, self.feature_size)\n",
        "        self.gru = nn.GRU(self.feature_size, self.feature_size, num_layers=3, batch_first=True)\n",
        "        self.decoder = nn.Linear(self.feature_size, self.vocab_size)\n",
        "        \n",
        "        # This shares the encoder and decoder weights as described in lecture.\n",
        "        self.decoder.weight = self.encoder.weight\n",
        "        self.decoder.bias.data.zero_()\n",
        "        \n",
        "        self.best_accuracy = -1\n",
        "\n",
        "    def forward(self, x, hidden_state=None):\n",
        "        batch_size = x.shape[0]\n",
        "        sequence_length = x.shape[1]\n",
        "        \n",
        "        # TODO finish defining the forward pass.\n",
        "        # You should return the output from the decoder as well as the hidden state given by the gru.\n",
        "        x = self.encoder(x)\n",
        "        x, hidden_state = self.gru(x, hidden_state)\n",
        "        x = self.decoder(x)\n",
        "\n",
        "        return x.view(batch_size, sequence_length, -1), hidden_state\n",
        "\n",
        "    # This defines the function that gives a probability distribution and implements the temperature computation.\n",
        "    def inference(self, x, hidden_state=None, temperature=1):\n",
        "        x = x.view(-1, 1)\n",
        "        x, hidden_state = self.forward(x, hidden_state)\n",
        "        x = x.view(1, -1)\n",
        "        x = x / max(temperature, 1e-20)\n",
        "        x = F.softmax(x, dim=1)\n",
        "        return x, hidden_state\n",
        "\n",
        "    # Predefined loss function\n",
        "    def loss(self, prediction, label, reduction='elementwise_mean'):\n",
        "        loss_val = F.cross_entropy(prediction.view(-1, self.vocab_size), label.view(-1), reduction=reduction)\n",
        "        return loss_val\n",
        "\n",
        "    # Saves the current model\n",
        "    def save_model(self, file_path, num_to_keep=1):\n",
        "        pt_util.save(self, file_path, num_to_keep)\n",
        "\n",
        "    # Saves the best model so far\n",
        "    def save_best_model(self, accuracy, file_path, num_to_keep=1):\n",
        "        if accuracy > self.best_accuracy:\n",
        "            self.save_model(file_path, num_to_keep)\n",
        "            self.best_accuracy = accuracy\n",
        "\n",
        "    def load_model(self, file_path):\n",
        "        pt_util.restore(self, file_path)\n",
        "\n",
        "    def load_last_model(self, dir_path):\n",
        "        return pt_util.restore_latest(self, dir_path)"
      ],
      "execution_count": 0,
      "outputs": []
    },
    {
      "metadata": {
        "id": "iEQZIoB0jY5h",
        "colab_type": "text"
      },
      "cell_type": "markdown",
      "source": [
        "#Part 5: Character Generation\n",
        "\n",
        "In class we discussed three algorithms for creating sequences.\n",
        "1. Max: Choose the most likely value\n",
        "2. Sample: Sample from the distribution output by the network.\n",
        "3. Beam Search: Sample from the distribution and use the Beam Search algorithm.\n",
        "\n",
        "The beam search algorithm is as follows:\n",
        "```\n",
        "1. Initialize the beam list with the single existing empty beam\n",
        "2. Repeat for the sequence length:\n",
        "    1. For each beam in the beam list:\n",
        "        1. Compute the next distribution over the output space for that state\n",
        "        2. Sample from the distribution with replacement\n",
        "        3. For each sample:\n",
        "            1. Compute its score\n",
        "            2. Record its hidden state and chosen value\n",
        "        4. Add all the samples to the new beam list      \n",
        "     2. Rank the new beam list\n",
        "     3. Throw out all but the top N beams\n",
        " 3. Return the top beam's chosen values.\n",
        "```\n",
        "\n",
        "\n",
        "Hints:\n",
        "- np.random.choice and torch.multinomial will both help with the sampling as they can take in a weighted probability distribution and sample from that distribution.\n",
        "- For beam search you will need to keep a running score of the likelihood of each sequence. If you multiply the likelihoods, you will encounter float underflow. Instead, you should add the log likelihoods.\n",
        "- For beam search, you will need to keep track of multiple hidden states related to which branch you are currently expanding.\n",
        "- For beam search, you should search over the beam, but only return the top result in the end.\n",
        "- It may be useful to do the training part before the character generation part so you have some model to test.\n",
        "- Feel free to play around with the `BEAM_WIDTH`.\n"
      ]
    },
    {
      "metadata": {
        "id": "9XTxy4eq3UYR",
        "colab_type": "code",
        "colab": {}
      },
      "cell_type": "code",
      "source": [
        "BEAM_WIDTH = 15\n",
        "SAMPLE_SIZE = 3\n",
        "\n",
        "import torch.nn.functional as f\n",
        "def generate_language(model, device, seed_words, sequence_length, vocab, sampling_strategy='max', beam_width=BEAM_WIDTH):\n",
        "    model.eval()\n",
        "\n",
        "    with torch.no_grad():\n",
        "        seed_words_arr = vocab.words_to_array(seed_words)\n",
        "\n",
        "        # Computes the initial hidden state from the prompt (seed words).\n",
        "        hidden = None\n",
        "        for ind in seed_words_arr:\n",
        "            data = ind.to(device)\n",
        "            output, hidden = model.inference(data, hidden)\n",
        "\n",
        "        outputs = []\n",
        "        # Initializes the beam list.\n",
        "        beams = [([], output, hidden, 0)]\n",
        "        \n",
        "        for ii in range(sequence_length):\n",
        "\n",
        "            if sampling_strategy == 'max':\n",
        "                # TODO max sampling strategy\n",
        "                max_sample = torch.argmax(output, 1)\n",
        "                outputs.append(max_sample.item())\n",
        "                output, hidden = model.inference(max_sample, hidden, TEMPERATURE)\n",
        "            elif sampling_strategy == 'sample':\n",
        "                # TODO: Probability-based sampling strategy.\n",
        "                sample = torch.multinomial(output, 1)\n",
        "                outputs.append(sample.item())\n",
        "                output, hidden = model.inference(sample, hidden, TEMPERATURE)\n",
        "            elif sampling_strategy == 'beam':\n",
        "                branch_beams = []\n",
        "                for beam_outputs, beam_distrib, hidden, beam_accuracy in beams:\n",
        "                    # take a BEAM_WIDTH number of samples from the beam_output\n",
        "                    samples = torch.multinomial(beam_distrib, beam_width, True)[0]\n",
        "                    for ind in range (beam_width):\n",
        "                        new_outputs = beam_outputs.copy()\n",
        "                        new_outputs.append(samples[ind].item())\n",
        "                        new_distrib, hidden = model.inference(samples[ind], hidden)\n",
        "                        sub_accuracy = torch.index_select(beam_distrib, 1, samples[ind]).log().item()\n",
        "                        new_accuracy = beam_accuracy + sub_accuracy\n",
        "                        \n",
        "                        branch_beam = (new_outputs, new_distrib, hidden, new_accuracy)\n",
        "                        branch_beams.append(branch_beam)\n",
        "                    \n",
        "                beams = sorted(branch_beams, key=lambda beam: beam[3], reverse = True)[:beam_width]\n",
        "                outputs = beams[0][0]\n",
        "                   \n",
        "        return vocab.array_to_words(seed_words_arr.tolist() + outputs)"
      ],
      "execution_count": 0,
      "outputs": []
    },
    {
      "metadata": {
        "id": "Havsk_RJi_i5",
        "colab_type": "text"
      },
      "cell_type": "markdown",
      "source": [
        "# Part 6: Training\n",
        "Again, we are providing training code for you. Have a look at the train function though as it implements the exact forward approximate backward computation, which may be of interest to you. You will still need to add the perplexity computation (read more in part 9 about how to do this)."
      ]
    },
    {
      "metadata": {
        "id": "L0Wq8hRy0UEX",
        "colab_type": "code",
        "colab": {}
      },
      "cell_type": "code",
      "source": [
        "def repackage_hidden(h):\n",
        "    \"\"\"Wraps hidden states in new Tensors, to detach them from their history.\"\"\"\n",
        "    if isinstance(h, torch.Tensor):\n",
        "        return h.detach()\n",
        "    else:\n",
        "        return tuple(repackage_hidden(v) for v in h)\n",
        "\n",
        "def train(model, device, train_loader, lr, epoch, log_interval):\n",
        "    model.train()\n",
        "    losses = []\n",
        "    perplexity = []\n",
        "    hidden = None\n",
        "    for batch_idx, (data, label) in enumerate(train_loader):\n",
        "        data, label = data.to(device), label.to(device)\n",
        "        # Separates the hidden state across batches. \n",
        "        # Otherwise the backward would try to go all the way to the beginning every time.\n",
        "        if hidden is not None:\n",
        "            hidden = repackage_hidden(hidden)\n",
        "        optimizer.zero_grad()\n",
        "        output, hidden = model(data, hidden)\n",
        "        pred = output.max(-1)[1]\n",
        "        loss = model.loss(output, label)\n",
        "        losses.append(loss.item())\n",
        "        perplexity.append(math.exp(loss.item()))\n",
        "        loss.backward()\n",
        "        optimizer.step()\n",
        "        if batch_idx % log_interval == 0:\n",
        "            print('Train Epoch: {} [{}/{} ({:.0f}%)]\\tLoss: {:.6f}'.format(\n",
        "                epoch, batch_idx * len(data), len(train_loader.dataset),\n",
        "                100. * batch_idx / len(train_loader), loss.item()))\n",
        "    return np.mean(losses), np.mean(perplexity)\n",
        "\n",
        "\n",
        "def test(model, device, test_loader):\n",
        "    model.eval()\n",
        "    test_loss = 0\n",
        "    correct = 0\n",
        "    test_perplexity = 0\n",
        "\n",
        "    with torch.no_grad():\n",
        "        hidden = None\n",
        "        for batch_idx, (data, label) in enumerate(test_loader):\n",
        "            data, label = data.to(device), label.to(device)\n",
        "            output, hidden = model(data, hidden)\n",
        "            loss = model.loss(output, label, reduction='elementwise_mean').item()\n",
        "            test_loss += loss\n",
        "            test_perplexity += math.exp(loss)\n",
        "            pred = output.max(-1)[1]\n",
        "            correct_mask = pred.eq(label.view_as(pred))\n",
        "            num_correct = correct_mask.sum().item()\n",
        "            correct += num_correct\n",
        "            # Comment this out to avoid printing test results\n",
        "            \"\"\"\n",
        "            if batch_idx % 10 == 0:\n",
        "                print('Input\\t%s\\nGT\\t%s\\npred\\t%s\\n\\n' % (\n",
        "                    train_loader.dataset.vocab.array_to_words(data[0]),\n",
        "                    train_loader.dataset.vocab.array_to_words(label[0]),\n",
        "                    train_loader.dataset.vocab.array_to_words(pred[0])))\n",
        "            \"\"\"\n",
        "    test_loss /= len(test_loader)\n",
        "    test_perplexity /= len(test_loader)\n",
        "    test_accuracy = 100. * correct / (len(test_loader.dataset) * test_loader.dataset.sequence_length)\n",
        "\n",
        "    print('\\nTest set: Average loss: {:.4f}, Accuracy: {}/{} ({:.0f}%)\\n'.format(\n",
        "        test_loss, correct, len(test_loader.dataset) * test_loader.dataset.sequence_length,\n",
        "        100. * correct / (len(test_loader.dataset) * test_loader.dataset.sequence_length)))\n",
        "    return test_loss, test_perplexity, test_accuracy"
      ],
      "execution_count": 0,
      "outputs": []
    },
    {
      "metadata": {
        "id": "66T-Ylkg0fn1",
        "colab_type": "code",
        "outputId": "002c85a7-0a3b-48ca-ad31-a85a61fb0205",
        "colab": {
          "base_uri": "https://localhost:8080/",
          "height": 4794
        }
      },
      "cell_type": "code",
      "source": [
        "SEQUENCE_LENGTH = 200\n",
        "BATCH_SIZE = 256\n",
        "FEATURE_SIZE = 512\n",
        "TEST_BATCH_SIZE = 256\n",
        "EPOCHS = 20\n",
        "LEARNING_RATE = 0.002\n",
        "WEIGHT_DECAY = 0.0005\n",
        "USE_CUDA = True\n",
        "PRINT_INTERVAL = 10\n",
        "LOG_PATH = DATA_PATH + 'logs/log.pkl'\n",
        "\n",
        "data_train = HarryPotterDataset(DATA_PATH + 'harry_potter_chars_train.pkl', SEQUENCE_LENGTH, BATCH_SIZE)\n",
        "data_test = HarryPotterDataset(DATA_PATH + 'harry_potter_chars_test.pkl', SEQUENCE_LENGTH, TEST_BATCH_SIZE)\n",
        "vocab = data_train.vocab\n",
        "\n",
        "use_cuda = USE_CUDA and torch.cuda.is_available()\n",
        "\n",
        "device = torch.device(\"cuda\" if use_cuda else \"cpu\")\n",
        "print('Using device', device)\n",
        "import multiprocessing\n",
        "num_workers = multiprocessing.cpu_count()\n",
        "print('num workers:', num_workers)\n",
        "\n",
        "kwargs = {'num_workers': num_workers,\n",
        "          'pin_memory': True} if use_cuda else {}\n",
        "\n",
        "train_loader = torch.utils.data.DataLoader(data_train, batch_size=BATCH_SIZE,\n",
        "                                           shuffle=False, **kwargs)\n",
        "test_loader = torch.utils.data.DataLoader(data_test, batch_size=TEST_BATCH_SIZE,\n",
        "                                          shuffle=False, **kwargs)\n",
        "\n",
        "model = HarryPotterNet(data_train.vocab_size(), FEATURE_SIZE).to(device)\n",
        "\n",
        "# Adam is an optimizer like SGD but a bit fancier. It tends to work faster and better than SGD.\n",
        "# We will talk more about different optimization methods in class.\n",
        "optimizer = optim.Adam(model.parameters(), lr=LEARNING_RATE, weight_decay=WEIGHT_DECAY)\n",
        "#start_epoch = model.load_last_model(DATA_PATH + 'checkpoints')\n",
        "start_epoch = 0\n",
        "train_losses, train_perplexities, test_losses, test_perplexities, test_accuracies = [], [], [], [], []#pt_util.read_log(LOG_PATH, ([], [], [], [], []))\n",
        "test_loss, test_perplexity, test_accuracy = test(model, device, test_loader)\n",
        "\n",
        "test_losses.append((start_epoch, test_loss))\n",
        "test_perplexities.append((start_epoch, test_perplexity))\n",
        "test_accuracies.append((start_epoch, test_accuracy))\n",
        "\n",
        "try:\n",
        "    for epoch in range(start_epoch, EPOCHS + 1):\n",
        "        lr = LEARNING_RATE * np.power(0.25, (int(epoch / 6)))\n",
        "        train_loss, train_perplexity = train(model, device, train_loader, lr, epoch, PRINT_INTERVAL)\n",
        "        test_loss, test_perplexity, test_accuracy = test(model, device, test_loader)\n",
        "        train_losses.append((epoch, train_loss))\n",
        "        train_perplexities.append((epoch, train_perplexity))\n",
        "        test_losses.append((epoch, test_loss))\n",
        "        test_perplexities.append((epoch, test_perplexity))\n",
        "        test_accuracies.append((epoch, test_accuracy))\n",
        "        #pt_util.write_log(LOG_PATH, (train_losses, train_perplexities, test_losses, test_perplexities, test_accuracies))\n",
        "        #model.save_best_model(test_accuracy, DATA_PATH + 'checkpoints/%03d.pt' % epoch)\n",
        "        seed_words = 'Harry Potter'\n",
        "        \n",
        "        \"\"\"\n",
        "        for ii in range(10):\n",
        "            generated_sentence = generate_language(model, device, seed_words, 200, vocab, 'sample')\n",
        "            print('generated sample\\t', generated_sentence)\n",
        "        generated_sentence = generate_language(model, device, seed_words, 200, vocab, 'beam')\n",
        "        print('generated beam\\t\\t', generated_sentence)\n",
        "        print('')\n",
        "        \"\"\"\n",
        "        \n",
        "except KeyboardInterrupt as ke:\n",
        "    print('Interrupted')\n",
        "except:\n",
        "    import traceback\n",
        "    traceback.print_exc()\n",
        "finally:\n",
        "    print('Saving final model')\n",
        "    model.save_model(DATA_PATH + 'checkpoints/%03d.pt' % epoch, 0)\n"
      ],
      "execution_count": 29,
      "outputs": [
        {
          "output_type": "stream",
          "text": [
            "Using device cuda\n",
            "num workers: 2\n",
            "\n",
            "Test set: Average loss: 5.8973, Accuracy: 10275/1280000 (1%)\n",
            "\n",
            "Train Epoch: 0 [0/25088 (0%)]\tLoss: 5.910481\n",
            "Train Epoch: 0 [2560/25088 (10%)]\tLoss: 28.977394\n",
            "Train Epoch: 0 [5120/25088 (20%)]\tLoss: 10.715719\n",
            "Train Epoch: 0 [7680/25088 (31%)]\tLoss: 4.381848\n",
            "Train Epoch: 0 [10240/25088 (41%)]\tLoss: 3.180796\n",
            "Train Epoch: 0 [12800/25088 (51%)]\tLoss: 2.599562\n",
            "Train Epoch: 0 [15360/25088 (61%)]\tLoss: 2.357399\n",
            "Train Epoch: 0 [17920/25088 (71%)]\tLoss: 2.226568\n",
            "Train Epoch: 0 [20480/25088 (82%)]\tLoss: 2.130527\n",
            "Train Epoch: 0 [23040/25088 (92%)]\tLoss: 2.056816\n",
            "\n",
            "Test set: Average loss: 2.0399, Accuracy: 547778/1280000 (43%)\n",
            "\n",
            "Train Epoch: 1 [0/25088 (0%)]\tLoss: 2.039311\n",
            "Train Epoch: 1 [2560/25088 (10%)]\tLoss: 1.981059\n",
            "Train Epoch: 1 [5120/25088 (20%)]\tLoss: 1.944631\n",
            "Train Epoch: 1 [7680/25088 (31%)]\tLoss: 1.899553\n",
            "Train Epoch: 1 [10240/25088 (41%)]\tLoss: 1.867198\n",
            "Train Epoch: 1 [12800/25088 (51%)]\tLoss: 1.838063\n",
            "Train Epoch: 1 [15360/25088 (61%)]\tLoss: 1.825122\n",
            "Train Epoch: 1 [17920/25088 (71%)]\tLoss: 1.809047\n",
            "Train Epoch: 1 [20480/25088 (82%)]\tLoss: 1.775160\n",
            "Train Epoch: 1 [23040/25088 (92%)]\tLoss: 1.748158\n",
            "\n",
            "Test set: Average loss: 1.7728, Accuracy: 618691/1280000 (48%)\n",
            "\n",
            "Train Epoch: 2 [0/25088 (0%)]\tLoss: 1.762664\n",
            "Train Epoch: 2 [2560/25088 (10%)]\tLoss: 1.724093\n",
            "Train Epoch: 2 [5120/25088 (20%)]\tLoss: 1.716414\n",
            "Train Epoch: 2 [7680/25088 (31%)]\tLoss: 1.690838\n",
            "Train Epoch: 2 [10240/25088 (41%)]\tLoss: 1.679015\n",
            "Train Epoch: 2 [12800/25088 (51%)]\tLoss: 1.656016\n",
            "Train Epoch: 2 [15360/25088 (61%)]\tLoss: 1.671773\n",
            "Train Epoch: 2 [17920/25088 (71%)]\tLoss: 1.728392\n",
            "Train Epoch: 2 [20480/25088 (82%)]\tLoss: 1.741867\n",
            "Train Epoch: 2 [23040/25088 (92%)]\tLoss: 1.659860\n",
            "\n",
            "Test set: Average loss: 1.6784, Accuracy: 643597/1280000 (50%)\n",
            "\n",
            "Train Epoch: 3 [0/25088 (0%)]\tLoss: 1.660041\n",
            "Train Epoch: 3 [2560/25088 (10%)]\tLoss: 1.616085\n",
            "Train Epoch: 3 [5120/25088 (20%)]\tLoss: 1.600497\n",
            "Train Epoch: 3 [7680/25088 (31%)]\tLoss: 1.577855\n",
            "Train Epoch: 3 [10240/25088 (41%)]\tLoss: 1.568014\n",
            "Train Epoch: 3 [12800/25088 (51%)]\tLoss: 1.561655\n",
            "Train Epoch: 3 [15360/25088 (61%)]\tLoss: 1.582516\n",
            "Train Epoch: 3 [17920/25088 (71%)]\tLoss: 1.623021\n",
            "Train Epoch: 3 [20480/25088 (82%)]\tLoss: 1.584473\n",
            "Train Epoch: 3 [23040/25088 (92%)]\tLoss: 1.549293\n",
            "\n",
            "Test set: Average loss: 1.5808, Accuracy: 674277/1280000 (53%)\n",
            "\n",
            "Train Epoch: 4 [0/25088 (0%)]\tLoss: 1.559590\n",
            "Train Epoch: 4 [2560/25088 (10%)]\tLoss: 1.532086\n",
            "Train Epoch: 4 [5120/25088 (20%)]\tLoss: 1.522804\n",
            "Train Epoch: 4 [7680/25088 (31%)]\tLoss: 1.508778\n",
            "Train Epoch: 4 [10240/25088 (41%)]\tLoss: 1.498409\n",
            "Train Epoch: 4 [12800/25088 (51%)]\tLoss: 1.497586\n",
            "Train Epoch: 4 [15360/25088 (61%)]\tLoss: 1.527756\n",
            "Train Epoch: 4 [17920/25088 (71%)]\tLoss: 1.592240\n",
            "Train Epoch: 4 [20480/25088 (82%)]\tLoss: 1.624214\n",
            "Train Epoch: 4 [23040/25088 (92%)]\tLoss: 1.530937\n",
            "\n",
            "Test set: Average loss: 1.5571, Accuracy: 681434/1280000 (53%)\n",
            "\n",
            "Train Epoch: 5 [0/25088 (0%)]\tLoss: 1.535397\n",
            "Train Epoch: 5 [2560/25088 (10%)]\tLoss: 1.480936\n",
            "Train Epoch: 5 [5120/25088 (20%)]\tLoss: 1.475037\n",
            "Train Epoch: 5 [7680/25088 (31%)]\tLoss: 1.477327\n",
            "Train Epoch: 5 [10240/25088 (41%)]\tLoss: 1.465306\n",
            "Train Epoch: 5 [12800/25088 (51%)]\tLoss: 1.486538\n",
            "Train Epoch: 5 [15360/25088 (61%)]\tLoss: 1.529143\n",
            "Train Epoch: 5 [17920/25088 (71%)]\tLoss: 1.502848\n",
            "Train Epoch: 5 [20480/25088 (82%)]\tLoss: 1.453710\n",
            "Train Epoch: 5 [23040/25088 (92%)]\tLoss: 1.439950\n",
            "\n",
            "Test set: Average loss: 1.5070, Accuracy: 693626/1280000 (54%)\n",
            "\n",
            "Train Epoch: 6 [0/25088 (0%)]\tLoss: 1.482069\n",
            "Train Epoch: 6 [2560/25088 (10%)]\tLoss: 1.446674\n",
            "Train Epoch: 6 [5120/25088 (20%)]\tLoss: 1.440000\n",
            "Train Epoch: 6 [7680/25088 (31%)]\tLoss: 1.428382\n",
            "Train Epoch: 6 [10240/25088 (41%)]\tLoss: 1.432932\n",
            "Train Epoch: 6 [12800/25088 (51%)]\tLoss: 1.461252\n",
            "Train Epoch: 6 [15360/25088 (61%)]\tLoss: 1.547815\n",
            "Train Epoch: 6 [17920/25088 (71%)]\tLoss: 1.476562\n",
            "Train Epoch: 6 [20480/25088 (82%)]\tLoss: 1.434025\n",
            "Train Epoch: 6 [23040/25088 (92%)]\tLoss: 1.415958\n",
            "\n",
            "Test set: Average loss: 1.4694, Accuracy: 707331/1280000 (55%)\n",
            "\n",
            "Train Epoch: 7 [0/25088 (0%)]\tLoss: 1.442149\n",
            "Train Epoch: 7 [2560/25088 (10%)]\tLoss: 1.410828\n",
            "Train Epoch: 7 [5120/25088 (20%)]\tLoss: 1.415247\n",
            "Train Epoch: 7 [7680/25088 (31%)]\tLoss: 1.421998\n",
            "Train Epoch: 7 [10240/25088 (41%)]\tLoss: 1.403402\n",
            "Train Epoch: 7 [12800/25088 (51%)]\tLoss: 1.408833\n",
            "Train Epoch: 7 [15360/25088 (61%)]\tLoss: 1.425515\n",
            "Train Epoch: 7 [17920/25088 (71%)]\tLoss: 1.455196\n",
            "Train Epoch: 7 [20480/25088 (82%)]\tLoss: 1.425655\n",
            "Train Epoch: 7 [23040/25088 (92%)]\tLoss: 1.393527\n",
            "\n",
            "Test set: Average loss: 1.4561, Accuracy: 709947/1280000 (55%)\n",
            "\n",
            "Train Epoch: 8 [0/25088 (0%)]\tLoss: 1.427586\n",
            "Train Epoch: 8 [2560/25088 (10%)]\tLoss: 1.406319\n",
            "Train Epoch: 8 [5120/25088 (20%)]\tLoss: 1.409696\n",
            "Train Epoch: 8 [7680/25088 (31%)]\tLoss: 1.463789\n",
            "Train Epoch: 8 [10240/25088 (41%)]\tLoss: 1.449163\n",
            "Train Epoch: 8 [12800/25088 (51%)]\tLoss: 1.397591\n",
            "Train Epoch: 8 [15360/25088 (61%)]\tLoss: 1.392754\n",
            "Train Epoch: 8 [17920/25088 (71%)]\tLoss: 1.394060\n",
            "Train Epoch: 8 [20480/25088 (82%)]\tLoss: 1.376589\n",
            "Train Epoch: 8 [23040/25088 (92%)]\tLoss: 1.372059\n",
            "\n",
            "Test set: Average loss: 1.4368, Accuracy: 717413/1280000 (56%)\n",
            "\n",
            "Train Epoch: 9 [0/25088 (0%)]\tLoss: 1.406950\n",
            "Train Epoch: 9 [2560/25088 (10%)]\tLoss: 1.407230\n",
            "Train Epoch: 9 [5120/25088 (20%)]\tLoss: 1.500924\n",
            "Train Epoch: 9 [7680/25088 (31%)]\tLoss: 1.460727\n",
            "Train Epoch: 9 [10240/25088 (41%)]\tLoss: 1.397388\n",
            "Train Epoch: 9 [12800/25088 (51%)]\tLoss: 1.377337\n",
            "Train Epoch: 9 [15360/25088 (61%)]\tLoss: 1.375342\n",
            "Train Epoch: 9 [17920/25088 (71%)]\tLoss: 1.380251\n",
            "Train Epoch: 9 [20480/25088 (82%)]\tLoss: 1.359700\n",
            "Train Epoch: 9 [23040/25088 (92%)]\tLoss: 1.353298\n",
            "\n",
            "Test set: Average loss: 1.4249, Accuracy: 720091/1280000 (56%)\n",
            "\n",
            "Train Epoch: 10 [0/25088 (0%)]\tLoss: 1.395367\n",
            "Train Epoch: 10 [2560/25088 (10%)]\tLoss: 1.373656\n",
            "Train Epoch: 10 [5120/25088 (20%)]\tLoss: 1.418202\n",
            "Train Epoch: 10 [7680/25088 (31%)]\tLoss: 1.380868\n",
            "Train Epoch: 10 [10240/25088 (41%)]\tLoss: 1.364838\n",
            "Train Epoch: 10 [12800/25088 (51%)]\tLoss: 1.391762\n",
            "Train Epoch: 10 [15360/25088 (61%)]\tLoss: 1.363765\n",
            "Train Epoch: 10 [17920/25088 (71%)]\tLoss: 1.367850\n",
            "Train Epoch: 10 [20480/25088 (82%)]\tLoss: 1.366354\n",
            "Train Epoch: 10 [23040/25088 (92%)]\tLoss: 1.359654\n",
            "\n",
            "Test set: Average loss: 1.4202, Accuracy: 721779/1280000 (56%)\n",
            "\n",
            "Train Epoch: 11 [0/25088 (0%)]\tLoss: 1.390434\n",
            "Train Epoch: 11 [2560/25088 (10%)]\tLoss: 1.359339\n",
            "Train Epoch: 11 [5120/25088 (20%)]\tLoss: 1.353495\n",
            "Train Epoch: 11 [7680/25088 (31%)]\tLoss: 1.384390\n",
            "Train Epoch: 11 [10240/25088 (41%)]\tLoss: 1.414857\n",
            "Train Epoch: 11 [12800/25088 (51%)]\tLoss: 1.391497\n",
            "Train Epoch: 11 [15360/25088 (61%)]\tLoss: 1.371405\n",
            "Train Epoch: 11 [17920/25088 (71%)]\tLoss: 1.366184\n",
            "Train Epoch: 11 [20480/25088 (82%)]\tLoss: 1.340031\n",
            "Train Epoch: 11 [23040/25088 (92%)]\tLoss: 1.332830\n",
            "\n",
            "Test set: Average loss: 1.3986, Accuracy: 729651/1280000 (57%)\n",
            "\n",
            "Train Epoch: 12 [0/25088 (0%)]\tLoss: 1.369281\n",
            "Train Epoch: 12 [2560/25088 (10%)]\tLoss: 1.342837\n",
            "Train Epoch: 12 [5120/25088 (20%)]\tLoss: 1.378712\n",
            "Train Epoch: 12 [7680/25088 (31%)]\tLoss: 1.379898\n",
            "Train Epoch: 12 [10240/25088 (41%)]\tLoss: 1.373827\n",
            "Train Epoch: 12 [12800/25088 (51%)]\tLoss: 1.354979\n",
            "Train Epoch: 12 [15360/25088 (61%)]\tLoss: 1.339005\n",
            "Train Epoch: 12 [17920/25088 (71%)]\tLoss: 1.345121\n",
            "Train Epoch: 12 [20480/25088 (82%)]\tLoss: 1.331240\n",
            "Train Epoch: 12 [23040/25088 (92%)]\tLoss: 1.334927\n",
            "\n",
            "Test set: Average loss: 1.3960, Accuracy: 728974/1280000 (57%)\n",
            "\n",
            "Train Epoch: 13 [0/25088 (0%)]\tLoss: 1.368920\n",
            "Train Epoch: 13 [2560/25088 (10%)]\tLoss: 1.377994\n",
            "Train Epoch: 13 [5120/25088 (20%)]\tLoss: 1.378725\n",
            "Train Epoch: 13 [7680/25088 (31%)]\tLoss: 1.327585\n",
            "Train Epoch: 13 [10240/25088 (41%)]\tLoss: 1.330191\n",
            "Train Epoch: 13 [12800/25088 (51%)]\tLoss: 1.329455\n",
            "Train Epoch: 13 [15360/25088 (61%)]\tLoss: 1.364653\n",
            "Train Epoch: 13 [17920/25088 (71%)]\tLoss: 1.361093\n",
            "Train Epoch: 13 [20480/25088 (82%)]\tLoss: 1.330885\n",
            "Train Epoch: 13 [23040/25088 (92%)]\tLoss: 1.321958\n",
            "\n",
            "Test set: Average loss: 1.4014, Accuracy: 726924/1280000 (57%)\n",
            "\n",
            "Train Epoch: 14 [0/25088 (0%)]\tLoss: 1.372530\n",
            "Train Epoch: 14 [2560/25088 (10%)]\tLoss: 1.342330\n",
            "Train Epoch: 14 [5120/25088 (20%)]\tLoss: 1.328564\n",
            "Train Epoch: 14 [7680/25088 (31%)]\tLoss: 1.340923\n",
            "Train Epoch: 14 [10240/25088 (41%)]\tLoss: 1.322429\n",
            "Train Epoch: 14 [12800/25088 (51%)]\tLoss: 1.322649\n",
            "Train Epoch: 14 [15360/25088 (61%)]\tLoss: 1.335377\n",
            "Train Epoch: 14 [17920/25088 (71%)]\tLoss: 1.333789\n",
            "Train Epoch: 14 [20480/25088 (82%)]\tLoss: 1.307814\n",
            "Train Epoch: 14 [23040/25088 (92%)]\tLoss: 1.310344\n",
            "\n",
            "Test set: Average loss: 1.3968, Accuracy: 727363/1280000 (57%)\n",
            "\n",
            "Train Epoch: 15 [0/25088 (0%)]\tLoss: 1.370770\n",
            "Train Epoch: 15 [2560/25088 (10%)]\tLoss: 1.320773\n",
            "Train Epoch: 15 [5120/25088 (20%)]\tLoss: 1.318700\n",
            "Train Epoch: 15 [7680/25088 (31%)]\tLoss: 1.321861\n",
            "Train Epoch: 15 [10240/25088 (41%)]\tLoss: 1.324250\n",
            "Train Epoch: 15 [12800/25088 (51%)]\tLoss: 1.316845\n",
            "Train Epoch: 15 [15360/25088 (61%)]\tLoss: 1.320445\n",
            "Train Epoch: 15 [17920/25088 (71%)]\tLoss: 1.330065\n",
            "Train Epoch: 15 [20480/25088 (82%)]\tLoss: 1.332542\n",
            "Train Epoch: 15 [23040/25088 (92%)]\tLoss: 1.323668\n",
            "\n",
            "Test set: Average loss: 1.3818, Accuracy: 733035/1280000 (57%)\n",
            "\n",
            "Train Epoch: 16 [0/25088 (0%)]\tLoss: 1.354417\n",
            "Train Epoch: 16 [2560/25088 (10%)]\tLoss: 1.336311\n",
            "Train Epoch: 16 [5120/25088 (20%)]\tLoss: 1.318035\n",
            "Train Epoch: 16 [7680/25088 (31%)]\tLoss: 1.334979\n",
            "Train Epoch: 16 [10240/25088 (41%)]\tLoss: 1.332251\n",
            "Train Epoch: 16 [12800/25088 (51%)]\tLoss: 1.299832\n",
            "Train Epoch: 16 [15360/25088 (61%)]\tLoss: 1.311551\n",
            "Train Epoch: 16 [17920/25088 (71%)]\tLoss: 1.318174\n",
            "Train Epoch: 16 [20480/25088 (82%)]\tLoss: 1.334594\n",
            "Train Epoch: 16 [23040/25088 (92%)]\tLoss: 1.366070\n",
            "\n",
            "Test set: Average loss: 1.3932, Accuracy: 728002/1280000 (57%)\n",
            "\n",
            "Train Epoch: 17 [0/25088 (0%)]\tLoss: 1.366600\n",
            "Train Epoch: 17 [2560/25088 (10%)]\tLoss: 1.301838\n",
            "Train Epoch: 17 [5120/25088 (20%)]\tLoss: 1.302324\n",
            "Train Epoch: 17 [7680/25088 (31%)]\tLoss: 1.310792\n",
            "Train Epoch: 17 [10240/25088 (41%)]\tLoss: 1.320164\n",
            "Train Epoch: 17 [12800/25088 (51%)]\tLoss: 1.310384\n",
            "Train Epoch: 17 [15360/25088 (61%)]\tLoss: 1.305202\n",
            "Train Epoch: 17 [17920/25088 (71%)]\tLoss: 1.324611\n",
            "Train Epoch: 17 [20480/25088 (82%)]\tLoss: 1.302901\n",
            "Train Epoch: 17 [23040/25088 (92%)]\tLoss: 1.319726\n",
            "\n",
            "Test set: Average loss: 1.5089, Accuracy: 694361/1280000 (54%)\n",
            "\n",
            "Train Epoch: 18 [0/25088 (0%)]\tLoss: 1.474421\n",
            "Train Epoch: 18 [2560/25088 (10%)]\tLoss: 1.333163\n",
            "Train Epoch: 18 [5120/25088 (20%)]\tLoss: 1.306625\n",
            "Train Epoch: 18 [7680/25088 (31%)]\tLoss: 1.283593\n",
            "Train Epoch: 18 [10240/25088 (41%)]\tLoss: 1.289760\n",
            "Train Epoch: 18 [12800/25088 (51%)]\tLoss: 1.291379\n",
            "Train Epoch: 18 [15360/25088 (61%)]\tLoss: 1.311814\n",
            "Train Epoch: 18 [17920/25088 (71%)]\tLoss: 1.332603\n",
            "Train Epoch: 18 [20480/25088 (82%)]\tLoss: 1.297149\n",
            "Train Epoch: 18 [23040/25088 (92%)]\tLoss: 1.300996\n",
            "\n",
            "Test set: Average loss: 1.3567, Accuracy: 740531/1280000 (58%)\n",
            "\n",
            "Train Epoch: 19 [0/25088 (0%)]\tLoss: 1.331424\n",
            "Train Epoch: 19 [2560/25088 (10%)]\tLoss: 1.324479\n",
            "Train Epoch: 19 [5120/25088 (20%)]\tLoss: 1.321821\n",
            "Train Epoch: 19 [7680/25088 (31%)]\tLoss: 1.292966\n",
            "Train Epoch: 19 [10240/25088 (41%)]\tLoss: 1.287771\n",
            "Train Epoch: 19 [12800/25088 (51%)]\tLoss: 1.283636\n",
            "Train Epoch: 19 [15360/25088 (61%)]\tLoss: 1.294839\n",
            "Train Epoch: 19 [17920/25088 (71%)]\tLoss: 1.332223\n",
            "Train Epoch: 19 [20480/25088 (82%)]\tLoss: 1.347159\n",
            "Train Epoch: 19 [23040/25088 (92%)]\tLoss: 1.318054\n",
            "\n",
            "Test set: Average loss: 1.3645, Accuracy: 738587/1280000 (58%)\n",
            "\n",
            "Train Epoch: 20 [0/25088 (0%)]\tLoss: 1.341505\n",
            "Train Epoch: 20 [2560/25088 (10%)]\tLoss: 1.289819\n",
            "Train Epoch: 20 [5120/25088 (20%)]\tLoss: 1.286000\n",
            "Train Epoch: 20 [7680/25088 (31%)]\tLoss: 1.302835\n",
            "Train Epoch: 20 [10240/25088 (41%)]\tLoss: 1.331213\n",
            "Train Epoch: 20 [12800/25088 (51%)]\tLoss: 1.287625\n",
            "Train Epoch: 20 [15360/25088 (61%)]\tLoss: 1.282407\n",
            "Train Epoch: 20 [17920/25088 (71%)]\tLoss: 1.303188\n",
            "Train Epoch: 20 [20480/25088 (82%)]\tLoss: 1.278574\n",
            "Train Epoch: 20 [23040/25088 (92%)]\tLoss: 1.286293\n",
            "\n",
            "Test set: Average loss: 1.3477, Accuracy: 743602/1280000 (58%)\n",
            "\n",
            "Saving final model\n",
            "Saved /gdrive/My Drive/colab_files/homework2/harry_potter/checkpoints/020.pt\n",
            "\n"
          ],
          "name": "stdout"
        }
      ]
    },
    {
      "metadata": {
        "id": "4mvdicMyBjdf",
        "colab_type": "text"
      },
      "cell_type": "markdown",
      "source": [
        "## Part 6.1: Graphing Loss, Accuracy, and Perplexity"
      ]
    },
    {
      "metadata": {
        "id": "y22jv0kqAmuA",
        "colab_type": "code",
        "outputId": "be2d2cad-e432-47e0-f918-68e1df844953",
        "colab": {
          "base_uri": "https://localhost:8080/",
          "height": 640
        }
      },
      "cell_type": "code",
      "source": [
        "# Train Loss \n",
        "pt_util.plot([e[0] for e in train_losses], [l[1] for l in train_losses], 'Train Error Graph', 'Epoch', 'Loss')"
      ],
      "execution_count": 37,
      "outputs": [
        {
          "output_type": "display_data",
          "data": {
            "image/png": "[encoded data removed]",
            "text/plain": [
              "<matplotlib.figure.Figure at 0x7f48fdebd860>"
            ]
          },
          "metadata": {
            "tags": []
          }
        }
      ]
    },
    {
      "metadata": {
        "id": "XOLZ0yMfAwZR",
        "colab_type": "code",
        "outputId": "5d8b3ee0-edf1-4533-fdca-f9217288bd40",
        "colab": {
          "base_uri": "https://localhost:8080/",
          "height": 640
        }
      },
      "cell_type": "code",
      "source": [
        "# Test Loss\n",
        "pt_util.plot([e[0] for e in test_losses], [l[1] for l in test_losses], 'Test Error Graph', 'Epoch', 'Loss')"
      ],
      "execution_count": 38,
      "outputs": [
        {
          "output_type": "display_data",
          "data": {
            "image/png": "[encoded data removed]",
            "text/plain": [
              "<matplotlib.figure.Figure at 0x7f48fde0c0f0>"
            ]
          },
          "metadata": {
            "tags": []
          }
        }
      ]
    },
    {
      "metadata": {
        "id": "l84XwYUMRn9B",
        "colab_type": "code",
        "colab": {
          "base_uri": "https://localhost:8080/",
          "height": 34
        },
        "outputId": "efcde2ae-3d5a-4d0e-e3e6-25a5823dcea1"
      },
      "cell_type": "code",
      "source": [
        "# Final Test Accuracy \n",
        "print(test_accuracies[-1][1])"
      ],
      "execution_count": 39,
      "outputs": [
        {
          "output_type": "stream",
          "text": [
            "58.09390625\n"
          ],
          "name": "stdout"
        }
      ]
    },
    {
      "metadata": {
        "id": "FKoMaubjAw5m",
        "colab_type": "code",
        "outputId": "23ac9a89-3b03-41ae-d77d-5c0d16748b19",
        "colab": {
          "base_uri": "https://localhost:8080/",
          "height": 640
        }
      },
      "cell_type": "code",
      "source": [
        "# Test Accuracy\n",
        "pt_util.plot([e[0] for e in test_accuracies], [l[1] for l in test_accuracies], 'Test Accuracy Graph', 'Epoch', 'Accuracy')"
      ],
      "execution_count": 40,
      "outputs": [
        {
          "output_type": "display_data",
          "data": {
            "image/png": "[encoded data removed]",
            "text/plain": [
              "<matplotlib.figure.Figure at 0x7f48fddf0048>"
            ]
          },
          "metadata": {
            "tags": []
          }
        }
      ]
    },
    {
      "metadata": {
        "id": "QBZg8L9CAxMA",
        "colab_type": "code",
        "outputId": "049836a9-63ed-4538-ac7b-752d66c15c7e",
        "colab": {
          "base_uri": "https://localhost:8080/",
          "height": 640
        }
      },
      "cell_type": "code",
      "source": [
        "# Train Perplexity \n",
        "pt_util.plot([e[0] for e in train_perplexities], [p[1] for p in train_perplexities], 'Train Perplexity Graph', 'Epoch', 'Perplexity')"
      ],
      "execution_count": 41,
      "outputs": [
        {
          "output_type": "display_data",
          "data": {
            "image/png": "[encoded data removed]",
            "text/plain": [
              "<matplotlib.figure.Figure at 0x7f48fdd78a90>"
            ]
          },
          "metadata": {
            "tags": []
          }
        }
      ]
    },
    {
      "metadata": {
        "id": "ZeaU_Rz2TViC",
        "colab_type": "code",
        "colab": {
          "base_uri": "https://localhost:8080/",
          "height": 34
        },
        "outputId": "b8ed8297-74ad-45fe-c000-00764d41b027"
      },
      "cell_type": "code",
      "source": [
        "# Final Test Perplexity\n",
        "print(test_perplexities[-1][1])"
      ],
      "execution_count": 42,
      "outputs": [
        {
          "output_type": "stream",
          "text": [
            "3.8486058791150612\n"
          ],
          "name": "stdout"
        }
      ]
    },
    {
      "metadata": {
        "id": "Fw2Q4WBMAxZ9",
        "colab_type": "code",
        "outputId": "a6fff1be-3dae-411c-d6e0-390e0e9c1d7f",
        "colab": {
          "base_uri": "https://localhost:8080/",
          "height": 640
        }
      },
      "cell_type": "code",
      "source": [
        "# Test Perplexity\n",
        "pt_util.plot([e[0] for e in test_perplexities], [p[1] for p in test_perplexities], 'Test Perplexity Graph', 'Epoch', 'Perplexity')"
      ],
      "execution_count": 36,
      "outputs": [
        {
          "output_type": "display_data",
          "data": {
            "image/png": "[encoded data removed]",
            "text/plain": [
              "<matplotlib.figure.Figure at 0x7f48fdf37860>"
            ]
          },
          "metadata": {
            "tags": []
          }
        }
      ]
    },
    {
      "metadata": {
        "id": "r597GUTVjwZc",
        "colab_type": "text"
      },
      "cell_type": "markdown",
      "source": [
        "#Part 7: Experiments"
      ]
    },
    {
      "metadata": {
        "id": "zgLylYlp9kBK",
        "colab_type": "code",
        "outputId": "0007dfa5-5802-4e37-d960-1e9d1a9885f6",
        "colab": {
          "base_uri": "https://localhost:8080/",
          "height": 258
        }
      },
      "cell_type": "code",
      "source": [
        "seed_words = 'I love Harry said'\n",
        "sequence_length = 200\n",
        "\n",
        "generated_sentence = generate_language(model, device, seed_words, sequence_length, vocab, 'max')\n",
        "print('generated with max\\t', generated_sentence)\n",
        "\n",
        "for ii in range(10):\n",
        "    generated_sentence = generate_language(model, device, seed_words, sequence_length, vocab, 'sample')\n",
        "    print('generated with sample\\t', generated_sentence)\n",
        "    \n",
        "for ii in range(10):\n",
        "    generated_sentence = generate_language(model, device, seed_words, sequence_length, vocab, 'beam')\n",
        "    print('generated with beam\\t', generated_sentence)"
      ],
      "execution_count": 0,
      "outputs": [
        {
          "output_type": "stream",
          "text": [
            "generated with max\t I love Harry said and started at the common room and started to his face and started to his face and started at the corridor and started at the corridor and started at the corridor and started at the corridor and star\n",
            "generated with sample\t I love Harry said. \"ToD. It's lugs --\" \"and have said to turn, \"Yha!\" he said unlessly. \"Miss.\" Hermieve was looks, just once made her shocy commed in this vame, which as he had been busted and lucked his larges hands\n",
            "generated with sample\t I love Harry said. Hermione she seemed to go in ex. Domby had robes outword her ... They started notices that so mark pleased at them portraise. A four dawn and saw Rombbag, on the wand lifted a glass before but his k\n",
            "generated with sample\t I love Harry said. \"I'm the orgus me,\" said Harry, hissing. Harry wassed a very stare and chair and looked to go shouldred and sworry to sex by some her the arms alrvady. Oh salfty-lians sons avert. He standing his wa\n",
            "generated with sample\t I love Harry saide dobbs sharply. \"Oh,\" said ... Harry chairs to abspead and disping to contercase to Qeed his visible, and stared more of quite in as budge as something to roles light, the whole things most so had ra\n",
            "generated with sample\t I love Harry said. Hermione Heroper, for Ertsted at quickly up the black plans of house. \"Chows all far that Malfoy too go that Vad-weered were thinks is a track fallens, Pabver if he saw mouths,\" said Harry, Jonthis \n",
            "generated with sample\t I love Harry said and walked on his brandful rather side of their schoes. The most half and swaying towards, Harry turned to face what had listended, is though up almost that cask a moment evening Calleav or the regig\n",
            "generated with sample\t I love Harry said. With black. \"The cass leasons.\" said Fund loudly seven to go eaphart, bland. Sid stuoted. He swooped was. The skyll sat day slit chapt out a cross of the hole in place as thouthfust already little c\n",
            "generated with sample\t I love Harry said a face. \"You then?\" she said in and sliphed on eyes, Madamaniaters, insidentagure, and the old mazave, listening. \"Ver suppossed his as thouby castle toP Im are. Harry,\" said Durity Mrs. Weasley, pas\n",
            "generated with sample\t I love Harry said. \"Whouse you have to remuse Hogwarts part. Then Look had supposed to she was every third and isn't even on the elfast. Madam Madam Potter Sname I'm so got anymore, to that hastily.\" The oppon pace. \"\n",
            "generated with sample\t I love Harry said Uncellangelina rat his preacty, had nifted again in the Potion look and seemed to acckward her at them. Hermione looked into sink who make he ospected hander; in her bushes in back to Crack and leant\n",
            "generated with beam\t I love Harry said, H Hardly Hary Harry susingenesingenesingedly henedly \" Haringenessusingen . \" said Haly \" H H Haring Hadessingen and Haly . . Harringen and Hadedly . Harry H Harry stenes ary Hadedly \" Hanedly . Had\n",
            "generated with beam\t I love Harry said, Haadly...\" Hadly . Harry Harry s and Hed . Hary Hadedenthed . \" said Harry aidlyedly anedly. \" said Hary s h hedly ..\" Hadly. Harry sedesusingened . Horesing Haringenedly. . H Hadesingenedly \" Haly \n"
          ],
          "name": "stdout"
        }
      ]
    },
    {
      "metadata": {
        "id": "pn0RWPBFjzkP",
        "colab_type": "text"
      },
      "cell_type": "markdown",
      "source": [
        "#Part 8: Other things\n",
        "Choose **two** of the following to try. It will probably be beneficial to create new code cells below rather than modifying your earlier code:\n",
        "\n",
        "\n",
        "1. Train on a different text corpus. The corpus should be at least as large as the provided Harry Potter dataset.\n",
        "    - Options include other books, websites, tweets, wikipedia articles etc.\n",
        "    -  (Hint: this is probably the easiest one)\n",
        "2. Train a model using student-forcing.\n",
        "    - You will have to modify the network inputs.\n",
        "    - You will need to use `torch.nn.GRUCell` and its like. https://pytorch.org/docs/stable/nn.html#grucell\n",
        "    - You cannot simply feed an empty string to start off a sequence. The sequence must be somehow conditioned on prior ground truth.\n",
        "3. Train a model on words instead of characters.\n",
        "    - You will need to redefine your input/output space vocabulary as well.\n",
        "    - You should replace any words that occur less than 5 times in the dataset with an <unknown\\> token. \n",
        "4. Write a new data loader which picks a random point in the text to start from and returns 10 consecutive sequences starting from that point onward. \n",
        "    - You should also modify the train and test functions to reset the memory when you reset the sequence.\n",
        "    - You should consider an epoch to be feeding in approximately the number of characters in the dataset.\n",
        "    - You may run into issues if your dataset size/epochs are not a multiple of your batch size.\n",
        "5. Train on sentences instead of one long sequence.\n",
        "    - You should still produce output character by character.\n",
        "    - Sentences can end with a . ! ?, but words like Mr. generally do not end a sentence.\n",
        "    - A sentence may also continue in the case of quotations. For example: ``\"Do your homework!\" said the TAs.`` is only one sentence.\n",
        "    - Your parsing does not have to be perfect, but try to incorporate as many of these rules as you can.\n",
        "    - Feel free to use existing NLP tools for finding sentence endings. One is spacy: https://spacy.io/usage/linguistic-features#section-sbd\n",
        "    - All sentences should end with an <eos\\> token. Your output sampling should now stop when it produces the <eos\\> token.\n",
        "\n"
      ]
    },
    {
      "metadata": {
        "id": "aYlKROK0GRXy",
        "colab_type": "text"
      },
      "cell_type": "markdown",
      "source": [
        "## Part 8.1: Training on a Different Corpus"
      ]
    },
    {
      "metadata": {
        "id": "GKHxifjzGYew",
        "colab_type": "code",
        "colab": {}
      },
      "cell_type": "code",
      "source": [
        "SEQUENCE_LENGTH = 150\n",
        "BATCH_SIZE = 256\n",
        "FEATURE_SIZE = 512\n",
        "TEST_BATCH_SIZE = 256\n",
        "EPOCHS = 20\n",
        "LEARNING_RATE = 0.002\n",
        "WEIGHT_DECAY = 0.0005\n",
        "USE_CUDA = True\n",
        "PRINT_INTERVAL = 10\n",
        "LOG_PATH = CHILDREN_PATH + 'logs/log.pkl'\n",
        "\n",
        "\n",
        "data_train = HarryPotterDataset(CHILDREN_PATH + 'children_chars_train.pkl', SEQUENCE_LENGTH, BATCH_SIZE)\n",
        "data_test = HarryPotterDataset(CHILDREN_PATH + 'children_chars_test.pkl', SEQUENCE_LENGTH, TEST_BATCH_SIZE)\n",
        "vocab = data_train.vocab\n",
        "\n",
        "use_cuda = USE_CUDA and torch.cuda.is_available()\n",
        "\n",
        "device = torch.device(\"cuda\" if use_cuda else \"cpu\")\n",
        "print('Using device', device)\n",
        "import multiprocessing\n",
        "num_workers = multiprocessing.cpu_count()\n",
        "print('num workers:', num_workers)\n",
        "\n",
        "kwargs = {'num_workers': num_workers,\n",
        "          'pin_memory': True} if use_cuda else {}\n",
        "\n",
        "train_loader = torch.utils.data.DataLoader(data_train, batch_size=BATCH_SIZE,\n",
        "                                           shuffle=False, **kwargs)\n",
        "test_loader = torch.utils.data.DataLoader(data_test, batch_size=TEST_BATCH_SIZE,\n",
        "                                          shuffle=False, **kwargs)\n",
        "\n",
        "model = HarryPotterNet(data_train.vocab_size(), FEATURE_SIZE).to(device)\n",
        "\n",
        "# Adam is an optimizer like SGD but a bit fancier. It tends to work faster and better than SGD.\n",
        "# We will talk more about different optimization methods in class.\n",
        "optimizer = optim.Adam(model.parameters(), lr=LEARNING_RATE, weight_decay=WEIGHT_DECAY)\n",
        "start_epoch = 0#model.load_last_model(DATA_PATH + 'checkpoints')\n",
        "\n",
        "train_losses, train_perplexities, test_losses, test_perplexities, test_accuracies = [], [], [], [], []#pt_util.read_log(LOG_PATH, ([], [], []))\n",
        "test_loss, test_perplexity, test_accuracy = test(model, device, test_loader)\n",
        "\n",
        "test_losses.append((start_epoch, test_loss))\n",
        "test_perplexities.append((start_epoch, test_perplexity))\n",
        "test_accuracies.append((start_epoch, test_accuracy))\n",
        "\n",
        "try:\n",
        "    for epoch in range(start_epoch, EPOCHS + 1):\n",
        "        lr = LEARNING_RATE * np.power(0.25, (int(epoch / 6)))\n",
        "        train_loss, train_perplexity = train(model, device, train_loader, lr, epoch, PRINT_INTERVAL)\n",
        "        test_loss, test_perplexity, test_accuracy = test(model, device, test_loader)\n",
        "        train_losses.append((epoch, train_loss))\n",
        "        train_perplexities.append((epoch, train_perplexity))\n",
        "        test_losses.append((epoch, test_loss))\n",
        "        test_perplexities.append((epoch, test_perplexity))\n",
        "        test_accuracies.append((epoch, test_accuracy))\n",
        "        pt_util.write_log(LOG_PATH, (train_losses, test_losses, test_accuracies))\n",
        "        model.save_best_model(test_accuracy, CHILDREN_PATH + 'checkpoints/%03d.pt' % epoch)\n",
        "        seed_words = 'Harry Potter'\n",
        "        \"\"\"\n",
        "        for ii in range(10):\n",
        "            generated_sentence = generate_language(model, device, seed_words, 200, vocab, 'sample')\n",
        "            print('generated sample\\t', generated_sentence)\n",
        "        generated_sentence = generate_language(model, device, seed_words, 200, vocab, 'beam')\n",
        "        print('generated beam\\t\\t', generated_sentence)\n",
        "        print('')\n",
        "        \"\"\"\n",
        "except KeyboardInterrupt as ke:\n",
        "    print('Interrupted')\n",
        "except:\n",
        "    import traceback\n",
        "    traceback.print_exc()\n",
        "finally:\n",
        "    print('Saving final model')\n",
        "    model.save_model(CHILDREN_PATH + 'checkpoints/%03d.pt' % epoch, 0)\n"
      ],
      "execution_count": 0,
      "outputs": []
    },
    {
      "metadata": {
        "colab_type": "code",
        "id": "IFSJSUwqHnH5",
        "colab": {}
      },
      "cell_type": "code",
      "source": [
        "# Train Loss \n",
        "pt_util.plot([e[0] for e in train_losses], [l[1] for l in train_losses], 'Train Error Graph', 'Epoch', 'Loss')"
      ],
      "execution_count": 0,
      "outputs": []
    },
    {
      "metadata": {
        "colab_type": "code",
        "id": "IRMOfc2GHnJC",
        "colab": {}
      },
      "cell_type": "code",
      "source": [
        "# Test Loss\n",
        "pt_util.plot([e[0] for e in test_losses], [l[1] for l in test_losses], 'Test Error Graph', 'Epoch', 'Loss')"
      ],
      "execution_count": 0,
      "outputs": []
    },
    {
      "metadata": {
        "colab_type": "code",
        "id": "LBmwd64PHnJK",
        "colab": {}
      },
      "cell_type": "code",
      "source": [
        "# Test Accuracy\n",
        "pt_util.plot([e[0] for e in test_accuracies], [l[1] for l in test_accuracies], 'Test Accuracy Graph', 'Epoch', 'Loss')"
      ],
      "execution_count": 0,
      "outputs": []
    },
    {
      "metadata": {
        "colab_type": "code",
        "id": "29ymn56OHnJW",
        "colab": {}
      },
      "cell_type": "code",
      "source": [
        "# Train Perplexity \n",
        "pt_util.plot([e[0] for e in train_perplexities], [p[1] for p in train_perplexities], 'Train Perplexity Graph', 'Epoch', 'Perplexity')"
      ],
      "execution_count": 0,
      "outputs": []
    },
    {
      "metadata": {
        "colab_type": "code",
        "id": "EFEDDeY0HnJe",
        "colab": {}
      },
      "cell_type": "code",
      "source": [
        "# Test Perplexity\n",
        "pt_util.plot([e[0] for e in test_perplexities], [p[1] for p in test_perplexities], 'Test Perplexity Graph', 'Epoch', 'Perplexity')"
      ],
      "execution_count": 0,
      "outputs": []
    },
    {
      "metadata": {
        "id": "vWMlB2U3onZ0",
        "colab_type": "text"
      },
      "cell_type": "markdown",
      "source": [
        "#Part 9: Short answer questions\n",
        "Please answer these questions, and put the answers in a file called homework2_python.pdf in your repository.\n",
        "\n",
        "\n",
        "1. Just like last time, provide plots for training error, test error, and test accuracy. Also provide a plot of your train and test perplexity per epoch.\n",
        "    - In class we defined perplexity as `2^(p*log_2(q))`, However the PyTorch cross entropy function uses the natural log. To compute perplexity directly from the cross entropy, you should use `e^p*ln(q)`.\n",
        "    - We encourage you to try multiple network modifications and hyperparameters, but you only need to provide plots for your best model. Please list the modifications and hyperparameters.    \n",
        "    \n",
        "2. What was your final test accuracy? What was your final test perplexity?\n",
        "3. What was your favorite sentence generated via each of the sampling methods? What was the prompt you gave to generate that sentence?\n",
        "4. Which sampling method seemed to generate the best results? Why do you think that is?\n",
        "5. For sampling and beam search, try multiple temperatures between 0 and 2. \n",
        "    - Which produces the best outputs? Best as in made the most sense, your favorite, or funniest, doesn't really matter how you decide.\n",
        "    - What does a temperature of 0 do? What does a temperature of 0<temp<1 do? What does a temperature of 1 do? What does a temperature of above 1 do? What would a negative temperature do (assuming the code allowed for negative temperature)?\n",
        "    \n",
        "Questions for each of the \"Other things\" sections. Only answer the questions corresponding to the ones you chose.\n",
        "\n",
        "1. New Corpus\n",
        "    1. What corpus did you choose? How many characters were in it?\n",
        "    2. What differences did you notice between the sentences generated with the new/vs old corpus.\n",
        "    3. Provide outputs for each sampling method on the new corpus (you can pick one temperature, but say what it was).\n",
        "\n",
        "2. Student-forcing\n",
        "    1. What new difficulties did you run into while training?\n",
        "    2. Were the results better than with teacher-forcing?\n",
        "    3. Provide some outputs for each sampling method (you can pick one temperature, but say what it was).\n",
        "    \n",
        "3. Words\n",
        "    1. What new difficulties did you run into while training?\n",
        "    2. How large was your vocabulary?\n",
        "    3. Did you find that different batch size, sequence length, and feature size and other hyperparameters were needed? If so, what worked best for you?\n",
        "\n",
        "4. Random Dataloader\n",
        "    1. What new difficulties did you run into while training?\n",
        "    2. Were the results better than with the original dataloader?\n",
        "    3. Provide some outputs for each sampling method (you can pick one temperature, but say what it was). \n",
        "    \n",
        "5. Sentences\n",
        "    1. What new difficulties did you run into while training? What new difficulties did you run into while preprocessing?\n",
        "    2. Were the results better than with the original dataloader?\n",
        "    3. Provide some outputs for each sampling method (you can pick one temperature, but say what it was). \n",
        "\n",
        "\n",
        "    "
      ]
    }
  ]
}